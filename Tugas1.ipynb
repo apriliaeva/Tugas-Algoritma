{
  "nbformat": 4,
  "nbformat_minor": 0,
  "metadata": {
    "colab": {
      "provenance": [],
      "toc_visible": true,
      "authorship_tag": "ABX9TyPHVPXEETRsBS1/A+m12jNQ",
      "include_colab_link": true
    },
    "kernelspec": {
      "name": "python3",
      "display_name": "Python 3"
    },
    "language_info": {
      "name": "python"
    },
    "accelerator": "GPU",
    "gpuClass": "standard"
  },
  "cells": [
    {
      "cell_type": "markdown",
      "metadata": {
        "id": "view-in-github",
        "colab_type": "text"
      },
      "source": [
        "<a href=\"https://colab.research.google.com/github/apriliaeva/Tugas-Algoritma/blob/main/Tugas1.ipynb\" target=\"_parent\"><img src=\"https://colab.research.google.com/assets/colab-badge.svg\" alt=\"Open In Colab\"/></a>"
      ]
    },
    {
      "cell_type": "code",
      "source": [
        "#(1)Mencetak teks dengan mengunakan print \n",
        "print('Tugas Algoritma dan Struktur Data')"
      ],
      "metadata": {
        "colab": {
          "base_uri": "https://localhost:8080/"
        },
        "id": "NUjxF-ahWys6",
        "outputId": "899c3849-71e7-408d-a4fa-a10d5b25e82c"
      },
      "execution_count": null,
      "outputs": [
        {
          "output_type": "stream",
          "name": "stdout",
          "text": [
            "Tugas Algoritma dan Struktur Data\n"
          ]
        }
      ]
    },
    {
      "cell_type": "code",
      "source": [
        "#(2)Mencetak pesan & nilai variabel \n",
        "nama = 'Aprilia Eva'                                                                                                 #menetapkan nilai variabel nama  \n",
        "nim = '2208541037'                                                                                                   #menetapkan nilai variabel nim\n",
        "kelas = 'A'                                                                                                          #menetapkan nilai variabel kelas\n",
        "prodi = 'Matematika'                                                                                                 #menetapkan nilai variabel prodi\n",
        "angkatan = '2022'                                                                                                    #menetapkan nilai variabel angkatan\n",
        "print('Perkenalkan nama saya', nama, 'dengan NIM', nim, 'dari Kelas', kelas, 'Prodi', prodi, 'Angkatan', angkatan)   #mencetak pesan/teks yang memuat nilai dari varibel-variabel di atas "
      ],
      "metadata": {
        "colab": {
          "base_uri": "https://localhost:8080/"
        },
        "id": "fnllwUMVaQvp",
        "outputId": "4b59d3d2-a6ad-4c22-a532-92accccce9bc"
      },
      "execution_count": null,
      "outputs": [
        {
          "output_type": "stream",
          "name": "stdout",
          "text": [
            "Perkenalkan nama saya Aprilia Eva dengan NIM 2208541037 dari Kelas A Prodi Matematika Angkatan 2022\n"
          ]
        }
      ]
    },
    {
      "cell_type": "code",
      "source": [
        "#(3)Menghitung hasil operasi (jumlah iuran)\n",
        "anggota = 37              #menetapkan nilai jumlah anggota\n",
        "iuran = 50000             #menetapkan nilai iuran\n",
        "print(anggota*iuran)      #mencetak jumlah iuran\n"
      ],
      "metadata": {
        "colab": {
          "base_uri": "https://localhost:8080/"
        },
        "id": "wFj-9bJyjQRr",
        "outputId": "9bff69c8-ab1c-46b1-a7a0-843d88a89182"
      },
      "execution_count": null,
      "outputs": [
        {
          "output_type": "stream",
          "name": "stdout",
          "text": [
            "1850000\n"
          ]
        }
      ]
    },
    {
      "cell_type": "code",
      "source": [
        "#(4)Mencetak pesan/teks dengan cara menginput data\n",
        "hari = input('Input Nama Hari:')                      #meminta pengguna memasukkan nama hari(cth:minggu, senin dll) & menyimpannya pada variabel hari\n",
        "ucapan = input('Input Ucapananmu:')                   #meminta pengguna memasukkan ucapan(cth:GBU,have a nice day dll) &  menyimpannya pada variabel ucapan\n",
        "print('Selamat berhari' +' '+ hari +','+' '+ ucapan)  #mencetak pesan/teks yang memuat variabel yang telah diinput"
      ],
      "metadata": {
        "colab": {
          "base_uri": "https://localhost:8080/"
        },
        "id": "dflYdo5FlFZb",
        "outputId": "ad3f82ff-c306-4950-b20a-cde4a5494556"
      },
      "execution_count": null,
      "outputs": [
        {
          "output_type": "stream",
          "name": "stdout",
          "text": [
            "Input Nama Hari:Minggu\n",
            "Input Ucapananmu:GBU\n",
            "Selamat berhari Minggu, GBU\n"
          ]
        }
      ]
    },
    {
      "cell_type": "code",
      "source": [
        "#(5)Menghitung volume balok menggunakan tipe data integer & string\n",
        "p = int(input('Input panjang balok(cm):'))  #memasukkan nilai panjang balok (dimana karena menggunakan tipe data int, nilai panjang balok harus berupa bil bulat) & menyimpannya pada variabel p \n",
        "l = int(input('Input lebar balok(cm):'))    #memasukkan nilai lebar balok (dimana karena menggunakan tipe data int, nilai panjang balok harus berupa bil bulat) & menyimpannya pada variabel l\n",
        "t = int(input('Input tinggi balok(cm):'))   #memasukkan nilai tinggi balok (dimana karena menggunakan tipe data int, nilai panjang balok harus berupa bil bulat) & menyimpannya pada variabel t\n",
        "v = int(p)*int(l)*int(t)                    #menghitung nilai volume balok bdk rumusnya & menyimpannya pada variabel v\n",
        "print('Volume balok adalah '+ str(v))       #mencetak teks & volume balok (dimana karena nilai volume berupa int, maka perlu diubah ke tipe data str) "
      ],
      "metadata": {
        "colab": {
          "base_uri": "https://localhost:8080/"
        },
        "id": "Zgrol3xz3cci",
        "outputId": "a54bb031-ec9f-4eb1-ac68-41f0a9ebb9f3"
      },
      "execution_count": null,
      "outputs": [
        {
          "output_type": "stream",
          "name": "stdout",
          "text": [
            "Panjang balok(cm):5\n",
            "Lebar balok(cm):3\n",
            "Tinggi balok(cm):2\n",
            "Volume balok adalah 30\n"
          ]
        }
      ]
    },
    {
      "cell_type": "code",
      "source": [
        "#(6)Menghitung volume tabung menggunakan tipe data float & string\n",
        "r = float(input('Input radius tabung:'))  #memasukkan nilai radius/jari-jari (karena menggunakan tipe data float, nilai radius berupa bil real) & menyimpannya pada variabel r  \n",
        "t = float(input('Input tinggi tabung:'))  ##memasukkan nilai tinggi pada tabung (karena menggunakan tipe data float, nilai tinggi berupa bil real) & menyimpannya pada variabel t\n",
        "v = 3.14*float(r)*float(r)*float(t)       #menghitung volume tabung bdk rumusnya & menyimpannya pada variabel v (dari rumus volume tabung pun kita dapat menentukan tipe data yang harus digunakan [dimana dik π=3.14] sehingga tipe data yang digunakan adalah float walaupun r & t berupa bil bulat)\n",
        "print('Volume tabung adalah '+ str(v))    #mencetak teks & volume tabung (dimana karena nilai volume berupa float, maka perlu diubah ke tipe data str)"
      ],
      "metadata": {
        "colab": {
          "base_uri": "https://localhost:8080/"
        },
        "id": "A_O7YQpDHMfD",
        "outputId": "b738abd7-356f-4c04-e1c3-927111dff261"
      },
      "execution_count": null,
      "outputs": [
        {
          "output_type": "stream",
          "name": "stdout",
          "text": [
            "Input radius tabung:4\n",
            "Input tinggi tabung:7\n",
            "Volume tabung adalah 351.68\n"
          ]
        }
      ]
    },
    {
      "cell_type": "code",
      "source": [
        "#(7)Mencetak pesan/teks & nilai variabel menggunakan formatted string (menggunakan contoh (2))\n",
        "print(f'Perkenalkan nama saya {nama} dengan NIM {nim} dari Kelas {kelas} Prodi {prodi} Angkatan {angkatan}')  #mencetak pesan/teks yang memuat nilai dari varibel-variabel yang telah disimpan (dibandingkan dengan contoh (2) dapat dilihat bahwa penggunaan formatted print mempermudah penulisan nilai variabel pada perintah print) "
      ],
      "metadata": {
        "id": "KTxQGzb_5YdY",
        "colab": {
          "base_uri": "https://localhost:8080/"
        },
        "outputId": "ed19e8b1-d9e3-4a80-e48c-16a01f60e639"
      },
      "execution_count": null,
      "outputs": [
        {
          "output_type": "stream",
          "name": "stdout",
          "text": [
            "Perkenalkan nama saya Aprilia Eva dengan NIM 2208541037 dari Kelas A Prodi Matematika Angkatan 2022\n"
          ]
        }
      ]
    },
    {
      "cell_type": "code",
      "source": [
        "#(8)Menghitung keliling & luas lingkaran\n",
        "r = float(input('Input radius lingkaran:'))          #memasukkan nilai radius/jari-jari lingkaran & menyimpannya pada variabel r\n",
        "k = 2*3.14*float(r)                                  #menghitung keliling lingkaran bdk rumusnya & menyimpannya pada variabel k\n",
        "l = 3.14*float(r)*float(r)                           #menghitung luas lingkaran bdk rumusnya & menyimpannya pada variabel l\n",
        "print(f'Keliling lingkaran adalah {k}')              #mencetak teks & keliling lingkaran (menggunakan formatted string) \n",
        "print(f'Luas lingkaran adalah {l}')                  #mencetak teks & luas lingkaran (menggunakan formatted string)"
      ],
      "metadata": {
        "colab": {
          "base_uri": "https://localhost:8080/"
        },
        "id": "al0f7Uw2dxJD",
        "outputId": "773aa73b-354a-4f4f-fc42-246570818d30"
      },
      "execution_count": null,
      "outputs": [
        {
          "output_type": "stream",
          "name": "stdout",
          "text": [
            "Input radius lingkaran:4\n",
            "Keliling lingkaran adalah 25.12\n",
            "Luas lingkaran adalah 50.24\n"
          ]
        }
      ]
    }
  ]
}