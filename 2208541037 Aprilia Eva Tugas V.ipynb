{
  "cells": [
    {
      "cell_type": "markdown",
      "metadata": {
        "id": "view-in-github",
        "colab_type": "text"
      },
      "source": [
        "<a href=\"https://colab.research.google.com/github/apriliaeva/Tugas-Algoritma/blob/main/2208541037%20Aprilia%20Eva%20Tugas%20V.ipynb\" target=\"_parent\"><img src=\"https://colab.research.google.com/assets/colab-badge.svg\" alt=\"Open In Colab\"/></a>"
      ]
    },
    {
      "cell_type": "markdown",
      "source": [
        "#5.16 List 2 Dimensi"
      ],
      "metadata": {
        "id": "18NZM6GlsHdj"
      }
    },
    {
      "cell_type": "markdown",
      "source": [
        "List 2 dimensi pada umumnya adalah menempatkan sebuah list di dalam list.\n",
        "Penggambarannya seperti sebuah matrik."
      ],
      "metadata": {
        "id": "M_uwUJTk0_qa"
      }
    },
    {
      "cell_type": "code",
      "source": [
        "#Latihan 1\n",
        "\n",
        "#inisialisasi variabel dengan list 2 dimensi\n",
        "matriks = [\n",
        "    [1,2,3,4],\n",
        "    [7,8,9,10],\n",
        "    [5,6,11,12],\n",
        "]\n",
        "#variabel matriks diatas akan dikenali sebagai matriks dimana memiliki baris dan kolom\n",
        "print('Matriks : \\n', matriks)\n",
        "\n",
        "print('\\nMatriks baris pertama: \\n', matriks[0])\n",
        "#baris diatas akan memanggil baris pertama dari matriks (dimana baris dimulai dari urutan 0)\n",
        "\n",
        "print('\\nMatriks baris kedua kolom keempat: \\n', matriks[1][3])\n",
        "#baris diatas akan memanggil baris ke 2 kolom ke 4 dari matriks (dimana baris & kolom dimulai dari urutan 0)\n",
        "\n",
        "#kita dapat mengubah/mengganti nilai pada matriks\n",
        "#ganti nilai matriks baris pertama kolom pertama menjadi sama dengan 20  \n",
        "matriks[0][0] = 20\n",
        "print('\\nUbah nilai matriks baris pertama kolom pertama menjadi: \\n', matriks[0][0]) \n",
        "#perintah print akan mencetak dan mengganti baris pertama kolom pertama dengan angka 20\n",
        "\n",
        "print('\\nMatriks terbaru: \\n', matriks)\n",
        "#perintah print akan mencetak dan menampilkan matriks terbaru"
      ],
      "metadata": {
        "colab": {
          "base_uri": "https://localhost:8080/"
        },
        "id": "ZhoO57c1sUeU",
        "outputId": "b88a8c46-5c62-483f-8af3-49e60676ac29"
      },
      "execution_count": 1,
      "outputs": [
        {
          "output_type": "stream",
          "name": "stdout",
          "text": [
            "Matriks : \n",
            " [[1, 2, 3, 4], [7, 8, 9, 10], [5, 6, 11, 12]]\n",
            "\n",
            "Matriks baris pertama: \n",
            " [1, 2, 3, 4]\n",
            "\n",
            "Matriks baris kedua kolom keempat: \n",
            " 10\n",
            "\n",
            "Ubah nilai matriks baris pertama kolom pertama menjadi: \n",
            " 20\n",
            "\n",
            "Matriks terbaru: \n",
            " [[20, 2, 3, 4], [7, 8, 9, 10], [5, 6, 11, 12]]\n"
          ]
        }
      ]
    },
    {
      "cell_type": "code",
      "source": [
        "#Latihan 2 [menggunakan perulangan for]\n",
        "#kita akan menggunakan for untuk mengurutkan isi variabel list dua dimensi\n",
        "\n",
        "#inisialisasi variabel dengan list 2 dimensi \n",
        "trejo = [\n",
        "    ['Uncuk', 'Jiun', 'Oci', 'Ajun'],\n",
        "    ['Cio', 'Jeyok', 'Asahoy', 'Adam'],\n",
        "    ['Dobby', 'Ruto', 'Uwo', 'Wawan']\n",
        "]\n",
        "print('Trejo Member First: \\n', trejo)\n",
        "\n",
        "#cetak teks & urutkan baris pertama pada variabel list 2 dimensi diatas\n",
        "print('\\nHyung Line in Trejo :')\n",
        "for hyung_line in trejo[0]:\n",
        "#for akan mengurutkan data pada baris pertama\n",
        "  print(hyung_line)\n",
        "#baris diatas akan memanggil baris pertama pada variabel trejo\n",
        "\n",
        "#cetak teks & urutkan baris kedua pada variabel list 2 dimensi diatas\n",
        "print('\\nMiddle Line in Trejo :')\n",
        "for middle_line in trejo[1]:\n",
        "#for akan mengurutkan data pada baris kedua\n",
        "  print(middle_line)\n",
        "#baris diatas akan memanggil baris kedua pada variabel trejo\n",
        "\n",
        "#cetak teks & urutkan baris ketiga pada variabel list 2 dimensi diatas\n",
        "print('\\nMaknae Line in Trejo :')\n",
        "for maknae_line in trejo[2]:\n",
        "#for akan mengurutkan data pada baris kedua\n",
        "  print(maknae_line)\n",
        "#baris diatas akan memanggil baris ketiga pada variabel trejo\n",
        "\n",
        "#kita dapat menampilkan semua isi variabel list 2 dimensi diatas dengan menggunakan perulangan bersarang\n",
        "print('\\nAll Trejo members:')\n",
        "for all in trejo:\n",
        "#for akan mengurutkan data pada variabel trejo \n",
        "#namun jika langsung di print disini [print(all)] outputnya akan berupa matriks \n",
        "  for treasure in all:\n",
        "#for akan mengurutkan data pada variabel all \n",
        "    print(treasure)\n",
        "#baris diatas akan memanggil data pada variabel treasure"
      ],
      "metadata": {
        "colab": {
          "base_uri": "https://localhost:8080/"
        },
        "id": "jOF6-ILlizMD",
        "outputId": "dcfd8eea-3261-46b1-c8b2-8e0c6c887e61"
      },
      "execution_count": 2,
      "outputs": [
        {
          "output_type": "stream",
          "name": "stdout",
          "text": [
            "Trejo Member First: \n",
            " [['Uncuk', 'Jiun', 'Oci', 'Ajun'], ['Cio', 'Jeyok', 'Asahoy', 'Adam'], ['Dobby', 'Ruto', 'Uwo', 'Wawan']]\n",
            "\n",
            "Hyung Line in Trejo :\n",
            "Uncuk\n",
            "Jiun\n",
            "Oci\n",
            "Ajun\n",
            "\n",
            "Middle Line in Trejo :\n",
            "Cio\n",
            "Jeyok\n",
            "Asahoy\n",
            "Adam\n",
            "\n",
            "Maknae Line in Trejo :\n",
            "Dobby\n",
            "Ruto\n",
            "Uwo\n",
            "Wawan\n",
            "\n",
            "All Trejo members:\n",
            "Uncuk\n",
            "Jiun\n",
            "Oci\n",
            "Ajun\n",
            "Cio\n",
            "Jeyok\n",
            "Asahoy\n",
            "Adam\n",
            "Dobby\n",
            "Ruto\n",
            "Uwo\n",
            "Wawan\n"
          ]
        }
      ]
    },
    {
      "cell_type": "markdown",
      "source": [
        "#5.17 Tuples"
      ],
      "metadata": {
        "id": "0XwTWaG7wYV2"
      }
    },
    {
      "cell_type": "markdown",
      "source": [
        "Tuples mirip dengan list, akan tetapi tuples tidak dapat dirubah isinya."
      ],
      "metadata": {
        "id": "bs06VwJOilus"
      }
    },
    {
      "cell_type": "code",
      "source": [
        "#Latihan 1\n",
        "\n",
        "#inisialisasi variabel kata\n",
        "kata = ('saya','sa','gua','kau','ko','loe','saya')\n",
        "\n",
        "#akan ditampilkan sinonim dari kata aku dgn menggunakan batas indeks\n",
        "print('Sinonim dari kata aku adalah ', kata[0:3])\n",
        "#perintah print diatas akan mencetak & menampilkan indeks pertama sampai ke 3 \n",
        "#kodenya jg dapat berupa print(''kata[:3]) \n",
        "\n",
        "#akan ditampilkan antonim dari kata aku dgn menggunakan batas indeks\n",
        "print('\\nAntonim dari kata aku adalah ', kata[3:6])\n",
        "#perintah print diatas akan mwncwtak & menampilkan indeks ke 3 sampai ke 5 \n",
        "\n",
        "#akan diurutkan kebawah sinonim dari kata aku menggunakan perulangan for\n",
        "print('\\nSinonim dari kata aku:')\n",
        "for aku in kata[0:3]:\n",
        "  print(aku)\n",
        "\n",
        "#akan ditampilkan banyaknya suatu kata dalam variabel kata dgn menggunakan 'variabel.count()'\n",
        "print('\\nBanyaknya kata aku dalam variabel kata adalah ', kata.count('aku'))\n",
        "#output nol karena tdk terdapat kata aku dalam variabel kata\n",
        "\n",
        "print('\\nBanyaknya kata saya dalam variabel kata adalah ', kata.count('saya'))\n",
        "\n",
        "#akan ditampilkan urutan kata dalam variabel kata dengan menggunakan 'variabel.index()'\n",
        "print('\\nUrutan kata ko pada variabel kata adalah ', kata.index('ko'))\n",
        "\n",
        "print('\\nUrutan kata sa pada variabel kata adalah ', kata.index('sa'))"
      ],
      "metadata": {
        "colab": {
          "base_uri": "https://localhost:8080/"
        },
        "id": "YAm6yFpysVxA",
        "outputId": "0f924b70-d703-45da-81eb-97f09aae44d4"
      },
      "execution_count": 3,
      "outputs": [
        {
          "output_type": "stream",
          "name": "stdout",
          "text": [
            "Sinonim dari kata aku adalah  ('saya', 'sa', 'gua')\n",
            "\n",
            "Antonim dari kata aku adalah  ('kau', 'ko', 'loe')\n",
            "\n",
            "Sinonim dari kata aku:\n",
            "saya\n",
            "sa\n",
            "gua\n",
            "\n",
            "Banyaknya kata aku dalam variabel kata adalah  0\n",
            "\n",
            "Banyaknya kata saya dalam variabel kata adalah  2\n",
            "\n",
            "Urutan kata ko pada variabel kata adalah  4\n",
            "\n",
            "Urutan kata sa pada variabel kata adalah  1\n"
          ]
        }
      ]
    },
    {
      "cell_type": "code",
      "source": [
        "#Latihan 2 [update nilai & hapus nilai dalam tuple]\n",
        "#seperti penjelasannya tuple tdk dpt dirubah isinya, yang berarti Anda tidak dapat menambah atau mengubah nilai elemen tuple\n",
        "#shg fungsi append() dan remove() tdk dpt digunakan \n",
        "\n",
        "#untuk membuat tuple baru, dapat dilakukan dgn mengambil bagian dari tuple yang ada untuk membuat tuple baru \n",
        "#inisialisasi variabel\n",
        "umur1 = (17,18,19,19)\n",
        "umur2 = (16,20,24)\n",
        "print('Umur kelompok pertama, sbb: \\n', umur1)\n",
        "print('\\nUmur kelompok kedua, sbb: \\n', umur2)\n",
        "usia = umur1 + umur2\n",
        "#variabel usia akan berisi gabungan elemen dari variabel umur1 & umur2\n",
        "print('\\nUmur kelompok baru adalah ', usia)\n",
        "#perintah diatas akan mencetak teks menampilkan variabel usia \n",
        "\n",
        "#menghapus nilai elemen tuple individual tidak mungkin dapat dilakukan, shg menghapus tuple hanya dapat dilakukan dgn menghapus keseluruhan tuple \n",
        "#hapus tuple dgn statement del\n",
        "\n",
        "#gunakan variabel sebelumnya\n",
        "#hapus tuple umur1 dgn statement del\n",
        "del umur1\n",
        "#lalu kita buat kembali tuple yg baru pada variabel umur1 \n",
        "umur1 = (14,15,18)\n",
        "print('\\nUmur kelompok pertama yang baru, sbb: \\n', umur1)\n",
        "\n",
        "#kembali membuat tuple yg baru\n",
        "usia_baru = umur1 + umur2\n",
        "print('\\nSehingga, umur kelompok setelah diperbaharui adalah ', usia_baru)"
      ],
      "metadata": {
        "colab": {
          "base_uri": "https://localhost:8080/"
        },
        "id": "V9oD1Z6dLyIT",
        "outputId": "aa49c12f-9ccc-4e7e-adbe-eb3da84da711"
      },
      "execution_count": 4,
      "outputs": [
        {
          "output_type": "stream",
          "name": "stdout",
          "text": [
            "Umur kelompok pertama, sbb: \n",
            " (17, 18, 19, 19)\n",
            "\n",
            "Umur kelompok kedua, sbb: \n",
            " (16, 20, 24)\n",
            "\n",
            "Umur kelompok baru adalah  (17, 18, 19, 19, 16, 20, 24)\n",
            "\n",
            "Umur kelompok pertama yang baru, sbb: \n",
            " (14, 15, 18)\n",
            "\n",
            "Sehingga, umur kelompok setelah diperbaharui adalah  (14, 15, 18, 16, 20, 24)\n"
          ]
        }
      ]
    },
    {
      "cell_type": "markdown",
      "source": [
        "#5.18 Dictionaries"
      ],
      "metadata": {
        "id": "Dw9nW1-RwZI3"
      }
    },
    {
      "cell_type": "markdown",
      "source": [
        "Dictionaries digunakan jika data nya terkait satu sama lain. Misalnya data\n",
        "seseorang yang terdiri dari umur, nama, tanggal lahir merupakan satu kesatuan\n",
        "data yang bersumber dari orang tersebut."
      ],
      "metadata": {
        "id": "qOSEJHYeYdxE"
      }
    },
    {
      "cell_type": "code",
      "source": [
        "#Latihan 1\n",
        "\n",
        "#inisialisasi data dictionary\n",
        "data_diri = {\n",
        "    'nama' : 'Aprilia Eva',                                 #nama berisi string ('Aprilia Eva')\n",
        "    'umur' : 19,                                            #umur berisi integer (22)\n",
        "    'hoby' : ['nonton', 'rebahan', 'medengarkan musik'],    #hoby berisi list dari string\n",
        "    'menikah' : False,                                      #menikah berisi boolean (False)  \n",
        "}\n",
        "\n",
        "#akan dipanggil data_diri diatas\n",
        "print('Data diri :',data_diri)\n",
        "\n",
        "#tanda yg digunakan utk memanggil data pada dictionary adalah ['']\n",
        "#akan dipanggil nama pada dictionary data_diri\n",
        "print('nama : ', data_diri['nama'])\n",
        "#akan dipanggil nama pada dictionary data_diri dgn menggunakan huruf kapital\n",
        "print('nama : ', data_diri['Nama'])\n",
        "#error karena N pada nama berupa huruf kapital sdgkan pada data_diri n berupa huruf kecil"
      ],
      "metadata": {
        "id": "tlDXzJQAwgcX",
        "colab": {
          "base_uri": "https://localhost:8080/",
          "height": 260
        },
        "outputId": "85f6d08f-d558-4d2a-cbc7-ba1f2eb57944"
      },
      "execution_count": 5,
      "outputs": [
        {
          "output_type": "stream",
          "name": "stdout",
          "text": [
            "Data diri : {'nama': 'Aprilia Eva', 'umur': 19, 'hoby': ['nonton', 'rebahan', 'medengarkan musik'], 'menikah': False}\n",
            "nama :  Aprilia Eva\n"
          ]
        },
        {
          "output_type": "error",
          "ename": "KeyError",
          "evalue": "ignored",
          "traceback": [
            "\u001b[0;31m---------------------------------------------------------------------------\u001b[0m",
            "\u001b[0;31mKeyError\u001b[0m                                  Traceback (most recent call last)",
            "\u001b[0;32m<ipython-input-5-e048426f0a52>\u001b[0m in \u001b[0;36m<cell line: 18>\u001b[0;34m()\u001b[0m\n\u001b[1;32m     16\u001b[0m \u001b[0mprint\u001b[0m\u001b[0;34m(\u001b[0m\u001b[0;34m'nama : '\u001b[0m\u001b[0;34m,\u001b[0m \u001b[0mdata_diri\u001b[0m\u001b[0;34m[\u001b[0m\u001b[0;34m'nama'\u001b[0m\u001b[0;34m]\u001b[0m\u001b[0;34m)\u001b[0m\u001b[0;34m\u001b[0m\u001b[0;34m\u001b[0m\u001b[0m\n\u001b[1;32m     17\u001b[0m \u001b[0;31m#akan dipanggil nama pada dictionary data_diri dgn menggunakan huruf kapital\u001b[0m\u001b[0;34m\u001b[0m\u001b[0;34m\u001b[0m\u001b[0m\n\u001b[0;32m---> 18\u001b[0;31m \u001b[0mprint\u001b[0m\u001b[0;34m(\u001b[0m\u001b[0;34m'nama : '\u001b[0m\u001b[0;34m,\u001b[0m \u001b[0mdata_diri\u001b[0m\u001b[0;34m[\u001b[0m\u001b[0;34m'Nama'\u001b[0m\u001b[0;34m]\u001b[0m\u001b[0;34m)\u001b[0m\u001b[0;34m\u001b[0m\u001b[0;34m\u001b[0m\u001b[0m\n\u001b[0m\u001b[1;32m     19\u001b[0m \u001b[0;31m#error karena N pada nama berupa huruf kapital sdgkan pada data_diri n berupa huruf kecil\u001b[0m\u001b[0;34m\u001b[0m\u001b[0;34m\u001b[0m\u001b[0m\n",
            "\u001b[0;31mKeyError\u001b[0m: 'Nama'"
          ]
        }
      ]
    },
    {
      "cell_type": "code",
      "source": [
        "#Lanjutan\n",
        "\n",
        "#tanda yg digunakan utk memanggil data pada dictionary dgn fungsi get adalah ('')\n",
        "#akan dipanggil nama pada dictionary data_diri dgn menggunakan fungsi get\n",
        "print('nama : ', data_diri.get('nama'))\n",
        "#akan dipanggil nama pada dictionary data_diri dgn menggunakan huruf kapital dgn menggunakan fungsi get\n",
        "print('nama : ', data_diri.get('Nama'))\n",
        "#disini outputnya tdk error walaupun huruf yg digunakan berbeda begitu pun jika di cari sesuatu yg tdk terdapat dalam dictionary\n",
        "#shg, jika tidak ada outputnya akan berupa \"None\"\n",
        "\n",
        "#akan ditambahkan data pada dictionary\n",
        "data_diri['zodiak'] = 'Taurus'\n",
        "#ditambahkan data berupa zodiak dalam dictionary\n",
        "\n",
        "#akan dipanggil data_diri diatas menggunakan fungsi get\n",
        "print('\\nData diri saya sebagai berikut:')\n",
        "print('Nama :', data_diri.get('nama'))\n",
        "print('Umur :', data_diri.get('umur'))\n",
        "print('Hoby :', data_diri.get('hoby'))\n",
        "print('Menikah :', data_diri.get('menikah'))\n",
        "print('Zodiak : ', data_diri.get('zodiak'))"
      ],
      "metadata": {
        "colab": {
          "base_uri": "https://localhost:8080/"
        },
        "id": "EAVFdXD1xKl5",
        "outputId": "1d1c54d5-ea58-4393-8391-93b8c7eeb635"
      },
      "execution_count": 6,
      "outputs": [
        {
          "output_type": "stream",
          "name": "stdout",
          "text": [
            "nama :  Aprilia Eva\n",
            "nama :  None\n",
            "\n",
            "Data diri saya sebagai berikut:\n",
            "Nama : Aprilia Eva\n",
            "Umur : 19\n",
            "Hoby : ['nonton', 'rebahan', 'medengarkan musik']\n",
            "Menikah : False\n",
            "Zodiak :  Taurus\n"
          ]
        }
      ]
    },
    {
      "cell_type": "code",
      "source": [
        "#Latihan 2 [menggunakan input & for]\n",
        "\n",
        "#inisialisasi data dictionary\n",
        "angka = {\n",
        "    '0' : 'nol',\n",
        "    '1' : 'satu',\n",
        "    '2' : 'dua',\n",
        "    '3' : 'tiga',\n",
        "    '4' : 'empat',\n",
        "    '5' : 'lima',\n",
        "    '6' : 'enam',\n",
        "    '7' : 'tujuh',\n",
        "    '8' : 'delapan',\n",
        "    '9' : 'sembilan'\n",
        "}\n",
        "\n",
        "#gunakan input utk memasukkan no \n",
        "no_HP = input('Masukkan nomor HP :')\n",
        "no_angka = ''\n",
        "for isi in no_HP:\n",
        "#for akan mengurutkan hasil input dari nomor HP\n",
        "  no_angka += angka.get(isi) + ' '\n",
        "print(no_angka)\n",
        "#lalu akan dipanggil data dari hasil input shg hasil outputnya berupa string"
      ],
      "metadata": {
        "colab": {
          "base_uri": "https://localhost:8080/"
        },
        "id": "Zm8chnHL2XJr",
        "outputId": "36e2fe74-95db-46bc-8940-996cbb2d88f6"
      },
      "execution_count": 7,
      "outputs": [
        {
          "output_type": "stream",
          "name": "stdout",
          "text": [
            "Masukkan nomor HP :081236789010\n",
            "nol delapan satu dua tiga enam tujuh delapan sembilan nol satu nol \n"
          ]
        }
      ]
    },
    {
      "cell_type": "markdown",
      "source": [
        "#5.19 Fungsi dalam Phyton"
      ],
      "metadata": {
        "id": "uV7Mk4_AF1gY"
      }
    },
    {
      "cell_type": "markdown",
      "source": [
        "Sampai sejauh ini tanpa disadari kita telah menerapkan beberapa jenis fungsi pada Python seperti fungsi input, print, len, range, dll. Pada dasarnya fungsi dibentuk untuk menghidari pengulangan pembuatan program secara manual dimana fungsi tersebut memiliki pengulangan yang tinggi dalam program yang kita buat. Jadi untuk mempermudah dan meringkas program yang kita buat, setiap fungsi tersebut dibutuhkan tinggal kita panggil."
      ],
      "metadata": {
        "id": "SQBYcYzcF7Ey"
      }
    },
    {
      "cell_type": "code",
      "source": [
        "#Latihan [menggunakan fungsi def]\n",
        "#rumus umum sintaks adalah sebagai berikut : def <nama_fungsi>(parameters)\n",
        "\n",
        "#input variabel dari firs_name & last name\n",
        "first_name = input('your first name is ')\n",
        "last_name = input('your last name is ')\n",
        "\n",
        "#kode dibawah ini akan memanggil variabel diatas menjadi sebuah variabel dengan nama full_name\n",
        "def full_name(first_name, last_name):\n",
        "  print(f'your full name is {first_name} {last_name}')\n",
        "full_name(first_name,last_name)\n",
        "#baris diatas akan menampilkan output dari kode sebelumnya"
      ],
      "metadata": {
        "colab": {
          "base_uri": "https://localhost:8080/"
        },
        "id": "pxgjU4PO70iX",
        "outputId": "ca40c432-fefd-4a67-ac9d-23a1f42bca53"
      },
      "execution_count": 8,
      "outputs": [
        {
          "output_type": "stream",
          "name": "stdout",
          "text": [
            "your first name is Lalisa\n",
            "your last name is Manoban\n",
            "your full name is Lalisa Manoban\n"
          ]
        }
      ]
    },
    {
      "cell_type": "code",
      "source": [],
      "metadata": {
        "id": "svn76bw6Jmeu"
      },
      "execution_count": null,
      "outputs": []
    },
    {
      "cell_type": "markdown",
      "source": [
        "###5.19.1 Tugas Fungsi pada Python"
      ],
      "metadata": {
        "id": "mB_n7eL9JyBo"
      }
    },
    {
      "cell_type": "markdown",
      "source": [
        "Ada dua jenis tugas fungsi pada Python yaitu:\n",
        "- Menjalankan perintah.\n",
        "- Menampilkan hasil perhitungan."
      ],
      "metadata": {
        "id": "dwyXV37-Jz8S"
      }
    },
    {
      "cell_type": "code",
      "source": [
        "#Latihan [menampilkan hasil perhitungan menggunakan return]\n",
        "\n",
        "#baris ini mendefinisikan luas persegi dgn sisi\n",
        "def luas_persegi (sisi):\n",
        "  return sisi * sisi\n",
        "#return akan mengembalikan nilai dari fungsi yang jika kita panggil\n",
        "\n",
        "#baris ini tidak menghasilkan output apa pun karena tdk berada print\n",
        "luas_persegi(10)\n",
        "\n",
        "#baris ini akan menghasilkan output dgn sisinya=4, yg berarti 4*4\n",
        "print('Luas persegi dengan sisi 4 adalah:', luas_persegi(4))\n",
        "\n",
        "#kita juga bisa simpan di dalam variabel, seperti berikut\n",
        "persegi_besar = luas_persegi(100)\n",
        "persegi_kecil = luas_persegi(50)\n",
        "\n",
        "#baris ini akan menghasilkan output berupa total luas dari 2 variabel diatas\n",
        "print('Toal luas persegi besar dan kecil adalah:', persegi_besar + persegi_kecil)"
      ],
      "metadata": {
        "id": "L5VY3-gXJ5PN",
        "outputId": "54002858-3d5d-4d78-f5db-5656caa1f7e2",
        "colab": {
          "base_uri": "https://localhost:8080/"
        }
      },
      "execution_count": 9,
      "outputs": [
        {
          "output_type": "stream",
          "name": "stdout",
          "text": [
            "Luas persegi dengan sisi 4 adalah: 16\n",
            "Toal luas persegi besar dan kecil adalah: 12500\n"
          ]
        }
      ]
    },
    {
      "cell_type": "code",
      "source": [
        "#Latihan [menggunakan lebih dari 1 return]\n",
        "\n",
        "#Jika return dieksekusi, maka semua proses yang ada di dalam blok kode fungsi tersebut akan berhenti\n",
        "#Sehingga, misalkan kita memiliki lebih dari 1 buah return, maka hanya ada satu return saja yang dieksekusi. Dan ketika sebuah return telah dieksekusi, semua perintah yang ada di bawahnya akan di-skip\n",
        "\n",
        "#baris ini mendefinisikan presentase dgn (total,jumlah)\n",
        "def persentase (total, jumlah):\n",
        "  if (total >= 0 and total <= jumlah):\n",
        "#baris diatas berarti jika total >=0 & total <= jumlah, maka berlaku syntax pada baris dibawah  \n",
        "    return total / jumlah * 100\n",
        "\n",
        "#kode ini akan berlaku jika total >=0 & total <= jumlah tdk terpenuhi\n",
        "  return False\n",
        "\n",
        "#baris ini akan menampilkan output sesuai total & jumlahnya (dimana total & jumlah memenuhi persyaratan) \n",
        "print('Presentase dari total = 30 & jumlah = 90 adalah ',persentase(30,90))\n",
        "\n",
        "#outputnya False karena syarat total <= jumlah tdk terpenuhi\n",
        "print('Presentase dari total = 90 & jumlah = 50 adalah ',persentase(90,50))\n"
      ],
      "metadata": {
        "id": "lyC1CzSGPCB9",
        "outputId": "9bb17bf7-0b99-4076-a536-15aba7b7ee7e",
        "colab": {
          "base_uri": "https://localhost:8080/"
        }
      },
      "execution_count": 10,
      "outputs": [
        {
          "output_type": "stream",
          "name": "stdout",
          "text": [
            "Presentase dari total = 30 & jumlah = 90 adalah  33.33333333333333\n",
            "Presentase dari total = 90 & jumlah = 50 adalah  False\n"
          ]
        }
      ]
    },
    {
      "cell_type": "markdown",
      "source": [
        "#5.20 Numpy"
      ],
      "metadata": {
        "id": "xiBzQ_pb7IvV"
      }
    },
    {
      "cell_type": "markdown",
      "source": [
        "Numpy merupakan salah satu Library dalam Python yang memiliki keunggulan\n",
        "dalam perhitungan menggunakan vektor dam matrik dalam berbagai dimensi.\n"
      ],
      "metadata": {
        "id": "QXiV3lYcYK7S"
      }
    },
    {
      "cell_type": "code",
      "source": [
        "#Sebelum menggunakan Numpy di Python, terlebih dahulu library ini harus diimport\n",
        "\n",
        "import numpy as np"
      ],
      "metadata": {
        "id": "4-v5d_-UZYID"
      },
      "execution_count": 11,
      "outputs": []
    },
    {
      "cell_type": "markdown",
      "source": [
        "###5.20.1 Perintah Dasar pada Numpy"
      ],
      "metadata": {
        "id": "Mk1JIBI1YV5x"
      }
    },
    {
      "cell_type": "code",
      "source": [
        "#Latihan \n",
        "\n",
        "#membuat array\n",
        "a = np.array([10,11,12,13,14])\n",
        "print('Array (1): ')\n",
        "print(a)\n",
        "#printah print diatas akan memanggil variabel list a\n",
        "\n",
        "#membuat array 2 dimensi\n",
        "b = np.array([[1,2,3],[4,5,6]])\n",
        "print('\\nArray 2 dimensi (2): ')\n",
        "print(b)\n",
        "#printah print diatas akan memanggil variabel list b\n",
        "\n",
        "#membuat array 3 dimensi\n",
        "c = np.array([[[1,2,3],[4,5,6]],\n",
        "              [[7,8,9],[1,0,1]],\n",
        "              [[2,3,4],[5,7,8]]])  \n",
        "print('\\nArray 3 dimensi (3): ')\n",
        "print(c)\n",
        "\n",
        "#akan ditentukan dimensi arrray & jumlah array\n",
        "#fungsi .ndim berfungsi menghitung dimensi array \n",
        "#fungsi .shape berfungsi menghitung isi dari array\n",
        "\n",
        "print('\\nDimensi array (1): \\n', a.ndim)\n",
        "print('Dimensi array (2): \\n', b.ndim)\n",
        "print('Dimensi array (3): \\n', c.ndim)\n",
        "print('Jumlah array (1): \\n', a.shape)\n",
        "print('Jumlah array (2): \\n', b.shape)\n",
        "print('Jumlah array (3): \\n', c.shape)"
      ],
      "metadata": {
        "id": "SsUQRAzA5tNr",
        "colab": {
          "base_uri": "https://localhost:8080/"
        },
        "outputId": "7def2aa6-1632-466f-b9cd-5ccf5b0dffce"
      },
      "execution_count": 12,
      "outputs": [
        {
          "output_type": "stream",
          "name": "stdout",
          "text": [
            "Array (1): \n",
            "[10 11 12 13 14]\n",
            "\n",
            "Array 2 dimensi (2): \n",
            "[[1 2 3]\n",
            " [4 5 6]]\n",
            "\n",
            "Array 3 dimensi (3): \n",
            "[[[1 2 3]\n",
            "  [4 5 6]]\n",
            "\n",
            " [[7 8 9]\n",
            "  [1 0 1]]\n",
            "\n",
            " [[2 3 4]\n",
            "  [5 7 8]]]\n",
            "\n",
            "Dimensi array (1): \n",
            " 1\n",
            "Dimensi array (2): \n",
            " 2\n",
            "Dimensi array (3): \n",
            " 3\n",
            "Jumlah array (1): \n",
            " (5,)\n",
            "Jumlah array (2): \n",
            " (2, 3)\n",
            "Jumlah array (3): \n",
            " (3, 2, 3)\n"
          ]
        }
      ]
    },
    {
      "cell_type": "markdown",
      "source": [
        "###5.20.2 Memanggil Anggota, Kolom dan Baris dengan Numpy"
      ],
      "metadata": {
        "id": "7FFNCKvJffM8"
      }
    },
    {
      "cell_type": "code",
      "source": [
        "#Latihan 1\n",
        "\n",
        "#membuat array\n",
        "d = np.array([[0,1,2,3],[1,2,1,2],[2,3,2,3],[3,4,3,4]])\n",
        "print('Diketahui array : \\n', d)\n",
        "\n",
        "#memanggil baris kedua   \n",
        "print('\\nBaris kedua :\\n', d[1,:])\n",
        "#memanggil kolom keempat\n",
        "print('Kolom keempat :\\n', d[:,3])\n",
        "#memanggil baris ketiga kolom pertama\n",
        "print('Baris ketiga kolom pertama :\\n', d[2,0])\n",
        "#mengganti elemen pada baris pertama kolom pertama\n",
        "d[0,0] = 10\n",
        "print('\\nArray yang baru : \\n',d)\n",
        "d[0,1:2]"
      ],
      "metadata": {
        "id": "JxQ-uhquJkE5",
        "outputId": "b423c35c-2065-4193-eb63-cef355b5272c",
        "colab": {
          "base_uri": "https://localhost:8080/"
        }
      },
      "execution_count": 13,
      "outputs": [
        {
          "output_type": "stream",
          "name": "stdout",
          "text": [
            "Diketahui array : \n",
            " [[0 1 2 3]\n",
            " [1 2 1 2]\n",
            " [2 3 2 3]\n",
            " [3 4 3 4]]\n",
            "\n",
            "Baris kedua :\n",
            " [1 2 1 2]\n",
            "Kolom keempat :\n",
            " [3 2 3 4]\n",
            "Baris ketiga kolom pertama :\n",
            " 2\n",
            "\n",
            "Array yang baru : \n",
            " [[10  1  2  3]\n",
            " [ 1  2  1  2]\n",
            " [ 2  3  2  3]\n",
            " [ 3  4  3  4]]\n"
          ]
        },
        {
          "output_type": "execute_result",
          "data": {
            "text/plain": [
              "array([1])"
            ]
          },
          "metadata": {},
          "execution_count": 13
        }
      ]
    },
    {
      "cell_type": "code",
      "source": [
        "#Latihan 2\n",
        "\n",
        "#melakukan slicing di array dgn np.arange\n",
        "#arange(start, stop, step)\n",
        "i = np.arange(1, 10, 2) \n",
        "\n",
        "#lalu kita panggil dgn kode seperti dibawah\n",
        "print('Diketahui array: \\n',i)\n",
        "print(i[2:8])\n",
        "print(i[:5])\n",
        "print(i[5:])\n",
        "print(i[::2])\n",
        "print(i[1::2])\n",
        "print(i[1:7:2])\n",
        "print(i[::-1])"
      ],
      "metadata": {
        "id": "DdADw81yhDD0",
        "outputId": "74d88d2f-39a5-40cb-dfef-d5149149696a",
        "colab": {
          "base_uri": "https://localhost:8080/"
        }
      },
      "execution_count": 15,
      "outputs": [
        {
          "output_type": "stream",
          "name": "stdout",
          "text": [
            "Diketahui array: \n",
            " [1 3 5 7 9]\n",
            "[5 7 9]\n",
            "[1 3 5 7 9]\n",
            "[]\n",
            "[1 5 9]\n",
            "[3 7]\n",
            "[3 7]\n",
            "[9 7 5 3 1]\n"
          ]
        }
      ]
    },
    {
      "cell_type": "markdown",
      "source": [
        "###5.20.3 Matrix pada Numpy\n"
      ],
      "metadata": {
        "id": "URr0v447pQZJ"
      }
    },
    {
      "cell_type": "code",
      "source": [
        "#Latihan\n",
        "\n",
        "#ones berfungsi membuat array dengan semua elemen bernilai 1\n",
        "np.ones((2,5))\n",
        "#kode diatas membuat array matriks elemen 1 dgn 2 baris & 5 kolom"
      ],
      "metadata": {
        "id": "Mx2sttP9pT6c",
        "outputId": "ad67ec68-a0fe-4778-c353-6e1d3af1a002",
        "colab": {
          "base_uri": "https://localhost:8080/"
        }
      },
      "execution_count": 16,
      "outputs": [
        {
          "output_type": "execute_result",
          "data": {
            "text/plain": [
              "array([[1., 1., 1., 1., 1.],\n",
              "       [1., 1., 1., 1., 1.]])"
            ]
          },
          "metadata": {},
          "execution_count": 16
        }
      ]
    },
    {
      "cell_type": "code",
      "source": [
        "#zeros berfungsi membuat array dengan semua elemen bernilai 0\n",
        "np.zeros((3,7))\n",
        "#kode diatas akan membuat array matriks elemen 0 dgn 3 baris & 7 kolom"
      ],
      "metadata": {
        "id": "7qpuLjN2qobh",
        "outputId": "4838cc47-1555-4e09-c0d1-efcc8230a7c6",
        "colab": {
          "base_uri": "https://localhost:8080/"
        }
      },
      "execution_count": 17,
      "outputs": [
        {
          "output_type": "execute_result",
          "data": {
            "text/plain": [
              "array([[0., 0., 0., 0., 0., 0., 0.],\n",
              "       [0., 0., 0., 0., 0., 0., 0.],\n",
              "       [0., 0., 0., 0., 0., 0., 0.]])"
            ]
          },
          "metadata": {},
          "execution_count": 17
        }
      ]
    },
    {
      "cell_type": "code",
      "source": [
        "#identity adalah jenis matrik identitas\n",
        "#dimana semua elemen pada diagonal utamanya adalah satu (1) dan semua elemen lainnya adalah nol (0)\n",
        "np.identity(4)\n",
        "#kode diatas akan membuat array matriks identitas dgn baris & kolom = 4"
      ],
      "metadata": {
        "id": "Y3Bhspqmq8GS",
        "outputId": "b1c2fb9f-1376-4300-c419-89757bbb92f9",
        "colab": {
          "base_uri": "https://localhost:8080/"
        }
      },
      "execution_count": 18,
      "outputs": [
        {
          "output_type": "execute_result",
          "data": {
            "text/plain": [
              "array([[1., 0., 0., 0.],\n",
              "       [0., 1., 0., 0.],\n",
              "       [0., 0., 1., 0.],\n",
              "       [0., 0., 0., 1.]])"
            ]
          },
          "metadata": {},
          "execution_count": 18
        }
      ]
    },
    {
      "cell_type": "code",
      "source": [
        "#full digunakan untuk mengisi array yang sudah ada dengan nilai yang sama\n",
        "np.full((3,3),7)\n",
        "#kode diatas akan membuat array matriks dgn elemen 7 & dgn 3 baris & 3 kolom"
      ],
      "metadata": {
        "id": "UUR6xU-GrGrq",
        "outputId": "c11b505d-b798-4ee9-9124-d730feac50d9",
        "colab": {
          "base_uri": "https://localhost:8080/"
        }
      },
      "execution_count": 19,
      "outputs": [
        {
          "output_type": "execute_result",
          "data": {
            "text/plain": [
              "array([[7, 7, 7],\n",
              "       [7, 7, 7],\n",
              "       [7, 7, 7]])"
            ]
          },
          "metadata": {},
          "execution_count": 19
        }
      ]
    },
    {
      "cell_type": "code",
      "source": [
        "#fungsi random digunakan untuk menghasilkan angka acak di Python\n",
        "#tidak benar-benar acak, melainkan ini digunakan untuk menghasilkan angka pseudo-acak\n",
        "np.random.rand(4,4)"
      ],
      "metadata": {
        "id": "YjcQnvfurM7f",
        "outputId": "3fb51c92-89cb-4acd-a7e5-183e002c4cec",
        "colab": {
          "base_uri": "https://localhost:8080/"
        }
      },
      "execution_count": 20,
      "outputs": [
        {
          "output_type": "execute_result",
          "data": {
            "text/plain": [
              "array([[0.69521848, 0.26239756, 0.42666766, 0.10020772],\n",
              "       [0.7441285 , 0.92884129, 0.12278222, 0.98592825],\n",
              "       [0.00362779, 0.91321903, 0.67099041, 0.4528955 ],\n",
              "       [0.55106637, 0.51404861, 0.72923513, 0.78362788]])"
            ]
          },
          "metadata": {},
          "execution_count": 20
        }
      ]
    },
    {
      "cell_type": "code",
      "source": [
        "#random.randint akan menghasilkan sebuah angka dengan tipe data integer acak dari parameter yang diberikan\n",
        "#Fungsi ini membutuhkan 2 parameter yaitu angka minimum dan angka maksimum, dan python akan memberikan sebuah angka diantara 2 angka tersebut\n",
        "np.random.randint(0,10,size=(2,4))"
      ],
      "metadata": {
        "id": "_89MXIPArS4n",
        "outputId": "8e3e383e-30f5-4c59-bbca-6114aada7306",
        "colab": {
          "base_uri": "https://localhost:8080/"
        }
      },
      "execution_count": 21,
      "outputs": [
        {
          "output_type": "execute_result",
          "data": {
            "text/plain": [
              "array([[7, 7, 5, 8],\n",
              "       [1, 9, 7, 6]])"
            ]
          },
          "metadata": {},
          "execution_count": 21
        }
      ]
    },
    {
      "cell_type": "markdown",
      "source": [
        "###5.20.4 Copy pada Numpy"
      ],
      "metadata": {
        "id": "_8Yc6YnPvEnE"
      }
    },
    {
      "cell_type": "code",
      "source": [
        "#Latihan\n",
        "\n",
        "#membuat array\n",
        "a = np.array([6,7,8,9])\n",
        "print('Diketahui array (a) : \\n',a)\n",
        "#menampilkan array\n",
        "\n",
        "#membuat nilai a = b\n",
        "b = a\n",
        "print('Diketahui array (b) : \\n',b)\n",
        "\n",
        "#akan diubah data indeks ke 0 (data pertama) menjadi 11\n",
        "b[0] = 11\n",
        "print('Diketahui array (b) baru : \\n',b)\n",
        "\n",
        "#sehingga nilai array a jg akan berubah\n",
        "print('Sehingga array (a) : \\n',a)\n",
        "\n",
        "#lalu buat array baru dgn elemen yg sama seperti di awal\n",
        "c = np.array([6,7,8,9])\n",
        "print('Diketahui array (c) : \\n',c)\n",
        "\n",
        "#gunakan copy\n",
        "d = c.copy()\n",
        "print('Diketahui array (d) : \\n',d)\n",
        "\n",
        "#ubah data indeks ke 0 (data pertama) menjadi 11\n",
        "d[0] = 11\n",
        "print('Sehingga array (d) : \\n',d)\n",
        "\n",
        "#dapat dilihat outputnya tidak mempengaruhi array yg asli\n",
        "print('Array (c) : \\n',c)"
      ],
      "metadata": {
        "id": "3CNbziA-vLVm",
        "outputId": "7ceb050b-4d4c-48d5-ec88-88ecaa00750a",
        "colab": {
          "base_uri": "https://localhost:8080/"
        }
      },
      "execution_count": 22,
      "outputs": [
        {
          "output_type": "stream",
          "name": "stdout",
          "text": [
            "Diketahui array (a) : \n",
            " [6 7 8 9]\n",
            "Diketahui array (b) : \n",
            " [6 7 8 9]\n",
            "Diketahui array (b) baru : \n",
            " [11  7  8  9]\n",
            "Sehingga array (a) : \n",
            " [11  7  8  9]\n",
            "Diketahui array (c) : \n",
            " [6 7 8 9]\n",
            "Diketahui array (d) : \n",
            " [6 7 8 9]\n",
            "Sehingga array (d) : \n",
            " [11  7  8  9]\n",
            "Array (c) : \n",
            " [6 7 8 9]\n"
          ]
        }
      ]
    },
    {
      "cell_type": "markdown",
      "source": [
        "###5.20.5 Operasi Matematika pada Numpy"
      ],
      "metadata": {
        "id": "0RPWErOszS_C"
      }
    },
    {
      "cell_type": "code",
      "source": [
        "#Latihan\n",
        "\n",
        "#membuat array\n",
        "x = np.array([10,12,14,16,18])\n",
        "y = np.array([2,2,2,2,2])\n",
        "print('Diketahui x = [10,12,14,16,18] & y = [2,2,2,2,2]\\n')\n",
        "\n",
        "#akan dipanggil sesuai operasi yg digunakan\n",
        "print('penjumlahan (x + y) = ',  x + y) \n",
        "print('pengurangan (x - y) = ', x - y)\n",
        "print('perkalian (x * y) = ', x * y)\n",
        "print('pembagian (x / y) = ', x / y)\n",
        "print('perpangkatan (x ** y) = ', x ** y)"
      ],
      "metadata": {
        "id": "VhSph8eHzU7Q",
        "outputId": "cb296b30-b080-470f-cfc5-c4990e8c4035",
        "colab": {
          "base_uri": "https://localhost:8080/"
        }
      },
      "execution_count": 23,
      "outputs": [
        {
          "output_type": "stream",
          "name": "stdout",
          "text": [
            "Diketahui x = [10,12,14,16,18] & y = [2,2,2,2,2]\n",
            "\n",
            "penjumlahan (x + y) =  [12 14 16 18 20]\n",
            "pengurangan (x - y) =  [ 8 10 12 14 16]\n",
            "perkalian (x * y) =  [20 24 28 32 36]\n",
            "pembagian (x / y) =  [5. 6. 7. 8. 9.]\n",
            "perpangkatan (x ** y) =  [100 144 196 256 324]\n"
          ]
        }
      ]
    },
    {
      "cell_type": "markdown",
      "source": [
        "###5.20.6 Perkalian Matrik pada Numpy"
      ],
      "metadata": {
        "id": "yuV_5Rhl1wCn"
      }
    },
    {
      "cell_type": "code",
      "source": [
        "#Latihan \n",
        "\n",
        "#membuat array\n",
        "matrik1 = np.array([[2,1],\n",
        "                     [1,2]])\n",
        "matrik2 = np.array([[2,2],\n",
        "                     [1,1]])   \n",
        "\n",
        "#kita kalikan matrik1 dengan matrik2 dgn beberapa cara, seperti berikut\n",
        "perkalian_biasa = matrik1*matrik2\n",
        "perkalian_matrik_cara1 = np.dot(matrik1,matrik2)\n",
        "perkalian_matrik_cara2 = matrik1.dot(matrik2)\n",
        "\n",
        "#akan dipanggil hasil perkalian dari matrik sesuai dgn cara yg digunakan\n",
        "print(\"Diketahui Matrik 1 :\")\n",
        "print(matrik1)\n",
        "\n",
        "print(\"Diketahui Matrik 2 :\")\n",
        "print(matrik2)\n",
        "\n",
        "print(\"Perkalian Biasa Matrik : \")\n",
        "print(perkalian_biasa)\n",
        "\n",
        "print(\"Perkalian Matrik Cara 1 : \")\n",
        "print(perkalian_matrik_cara1)\n",
        "\n",
        "print(\"Perkalian Matrik Cara 2 : \")\n",
        "print(perkalian_matrik_cara2)"
      ],
      "metadata": {
        "id": "EDRiLsOm1zLV",
        "outputId": "100f8789-da55-4694-e577-4aa4c978629d",
        "colab": {
          "base_uri": "https://localhost:8080/"
        }
      },
      "execution_count": 24,
      "outputs": [
        {
          "output_type": "stream",
          "name": "stdout",
          "text": [
            "Diketahui Matrik 1 :\n",
            "[[2 1]\n",
            " [1 2]]\n",
            "Diketahui Matrik 2 :\n",
            "[[2 2]\n",
            " [1 1]]\n",
            "Perkalian Biasa Matrik : \n",
            "[[4 2]\n",
            " [1 2]]\n",
            "Perkalian Matrik Cara 1 : \n",
            "[[5 5]\n",
            " [4 4]]\n",
            "Perkalian Matrik Cara 2 : \n",
            "[[5 5]\n",
            " [4 4]]\n"
          ]
        }
      ]
    },
    {
      "cell_type": "markdown",
      "source": [
        "###5.20.7 min, max dan sum pada Numpy"
      ],
      "metadata": {
        "id": "Y-PcBhjW4-tx"
      }
    },
    {
      "cell_type": "code",
      "source": [
        "#Latihan\n",
        "\n",
        "#membuat array\n",
        "a = np.array([[0,1,2,],\n",
        "              [4,5,6], \n",
        "              [7,8,9]])\n",
        "#memanggil & menampilkan matrik a\n",
        "print('Diketahui matrik (a) : \\n',a)\n",
        "\n",
        "#b merupakan nilai minimal atau paling kecil di matriks a\n",
        "b = np.min(a) \n",
        "print('\\nNilai minimal dari matrik a : \\n',b)\n",
        "\n",
        "#b merupakan nilai minimal pada sumbu-0 (mengarah kebawah/secara vertikal)\n",
        "c = np.min(a,axis=0) \n",
        "print('\\nNilai minimal pada sumbu-0 : \\n',c)\n",
        "\n",
        "#d merupakan nilai minimal pada sumbu-1 (mengarah kesamping/secara horizontal)\n",
        "d = np.min(a,axis=1) \n",
        "print('\\nNilai minimal pada sumbu-1 : \\n',d)\n",
        "\n",
        "#e merupakan nilai maksimal atau paling besar di matriks a\n",
        "e = np.max(a) \n",
        "print('\\nNilai maksimal dari matrik a : \\n',e)\n",
        "\n",
        "#f merupakan nilai maksimal pada sumbu-0 (mengarah kebawah/secara vertikal)\n",
        "f = np.max(a,axis=0) \n",
        "print('\\nNilai maksimal pada sumbu-0 : \\n',f)\n",
        "\n",
        "#g merupakan nilai maksimal pada sumbu-1 (mengarah kesamping/secara horizontal)\n",
        "g= np.max(a,axis=1) \n",
        "print('\\nNilai maksimal pada sumbu-1 : \\n',g)\n",
        "\n",
        "#h merupakan hasil penjumlahan dari semua elemen di matriks a\n",
        "h = np.sum(a) \n",
        "print('\\nHasil penjumlahan semua elemen di matrik a : \\n',h)\n",
        "\n",
        "#i merupakan hasil penjumlahan sumbu-0 (mengarah kebawah/secara vertikal)\n",
        "i = np.sum(a,axis=0) \n",
        "print('\\nHasil penjumlahan semua elemen di matrik a pada sumbu-0 : \\n',i)\n",
        "\n",
        "#j merupakan hasil penjumlahan sumbu-1 (mengarah kesamping/secara horizontal)\n",
        "j= np.sum(a, axis=1)\n",
        "print('\\nHasil penjumlahan semua elemen di matrik a pada sumbu-1 : \\n',j)"
      ],
      "metadata": {
        "id": "Sn3Ds0VX5Csd",
        "outputId": "51325286-4e24-48f9-9481-670c0a6e8189",
        "colab": {
          "base_uri": "https://localhost:8080/"
        }
      },
      "execution_count": 25,
      "outputs": [
        {
          "output_type": "stream",
          "name": "stdout",
          "text": [
            "Diketahui matrik (a) : \n",
            " [[0 1 2]\n",
            " [4 5 6]\n",
            " [7 8 9]]\n",
            "\n",
            "Nilai minimal dari matrik a : \n",
            " 0\n",
            "\n",
            "Nilai minimal pada sumbu-0 : \n",
            " [0 1 2]\n",
            "\n",
            "Nilai minimal pada sumbu-1 : \n",
            " [0 4 7]\n",
            "\n",
            "Nilai maksimal dari matrik a : \n",
            " 9\n",
            "\n",
            "Nilai maksimal pada sumbu-0 : \n",
            " [7 8 9]\n",
            "\n",
            "Nilai maksimal pada sumbu-1 : \n",
            " [2 6 9]\n",
            "\n",
            "Hasil penjumlahan semua elemen di matrik a : \n",
            " 42\n",
            "\n",
            "Hasil penjumlahan semua elemen di matrik a pada sumbu-0 : \n",
            " [11 14 17]\n",
            "\n",
            "Hasil penjumlahan semua elemen di matrik a pada sumbu-1 : \n",
            " [ 3 15 24]\n"
          ]
        }
      ]
    }
  ],
  "metadata": {
    "accelerator": "GPU",
    "colab": {
      "provenance": [],
      "authorship_tag": "ABX9TyPLevpEiHWMqaOeucjUQaP3",
      "include_colab_link": true
    },
    "gpuClass": "standard",
    "kernelspec": {
      "display_name": "Python 3",
      "name": "python3"
    },
    "language_info": {
      "name": "python"
    }
  },
  "nbformat": 4,
  "nbformat_minor": 0
}