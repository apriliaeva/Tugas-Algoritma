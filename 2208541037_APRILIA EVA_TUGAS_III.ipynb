{
  "nbformat": 4,
  "nbformat_minor": 0,
  "metadata": {
    "colab": {
      "provenance": [],
      "authorship_tag": "ABX9TyOgKteNPiyucOsTn5ifnnW4",
      "include_colab_link": true
    },
    "kernelspec": {
      "name": "python3",
      "display_name": "Python 3"
    },
    "language_info": {
      "name": "python"
    },
    "accelerator": "GPU",
    "gpuClass": "standard"
  },
  "cells": [
    {
      "cell_type": "markdown",
      "metadata": {
        "id": "view-in-github",
        "colab_type": "text"
      },
      "source": [
        "<a href=\"https://colab.research.google.com/github/apriliaeva/Tugas-Algoritma/blob/main/2208541037_APRILIA%20EVA_TUGAS_III.ipynb\" target=\"_parent\"><img src=\"https://colab.research.google.com/assets/colab-badge.svg\" alt=\"Open In Colab\"/></a>"
      ]
    },
    {
      "cell_type": "code",
      "source": [
        "#Tugas III \n",
        "#Latihan Strings Index 1\n",
        "\n",
        "nama = 'Aprilia Eva'\n",
        "#memasukkan string pada variabel nama\n",
        "\n",
        "print(nama[1])\n",
        "#menampilkan huruf/karakter ke-1(dimana urutannya dimulai dari 0)\n",
        "\n",
        "print(nama[7])\n",
        "#menampilkan huruf/karakter ke-7(dimana spasi di string juga ikut dalam urutan index)\n",
        "\n",
        "print(nama[-1])\n",
        "#menampilkan huruf/karakter ke-1 dari kanan\n",
        "\n",
        "#Note : \n",
        "#index bisa dimulai dari kiri ke kanan, dan kanan ke kiri. Jika dari kiri ke kanan mulai dari 0,1,2,3 dst, maka jika dari kanan ke kiri mulai dari -1,-2,-3 dst. \n",
        "#jika ada spasi pada string maka spasi tersebut juga ikut dakam urutan index     "
      ],
      "metadata": {
        "id": "h7YdF23gjPSr",
        "colab": {
          "base_uri": "https://localhost:8080/"
        },
        "outputId": "32642975-5cc3-43b5-c8e5-6fba182705af"
      },
      "execution_count": 12,
      "outputs": [
        {
          "output_type": "stream",
          "name": "stdout",
          "text": [
            "p\n",
            " \n",
            "a\n"
          ]
        }
      ]
    },
    {
      "cell_type": "code",
      "source": [
        "#Latihan Strings Index 2\n",
        "\n",
        "nama = 'Aprilia Eva'\n",
        "#memasukkan string pada varibel nama\n",
        "\n",
        "print(nama[0:5])\n",
        "#menampilkan index ke-0 sampai index ke-5 (dimana outputnya nanti akan berupa karakter dari index ke-0 sampai ke-4)\n",
        "\n",
        "print(nama[:7])\n",
        "#menampilkan mulai dari index paling kiri atau index ke-0 sampai index ke-7 \n",
        "\n",
        "print(nama[8:])\n",
        "#menampilkan index ke-8 sampai index paling kanan \n",
        "\n",
        "print(nama[:])\n",
        "#menampilkan string dari varibel nama (mulai index paling kiri sampai index paling kanan) \n"
      ],
      "metadata": {
        "colab": {
          "base_uri": "https://localhost:8080/"
        },
        "id": "TZCAdyq3pVwc",
        "outputId": "aff62517-02da-476d-f831-643fac2770ed"
      },
      "execution_count": 20,
      "outputs": [
        {
          "output_type": "stream",
          "name": "stdout",
          "text": [
            "April\n",
            "Aprilia\n",
            "Eva\n",
            "Aprilia Eva\n"
          ]
        }
      ]
    },
    {
      "cell_type": "code",
      "source": [
        "#Latihan Strings Methods\n",
        "\n",
        "judul = 'Prodi Matematika Angkatan 2022'\n",
        "#memasukkan string pada variabel judul\n",
        "\n",
        "#len()\n",
        "#fungsinya adalah menghitung panjang atau jumlah karakter pada string\n",
        "print(len(judul)) \n",
        "#menampilan jumlah huruf/karakter pada string dalam variabel judul\n",
        "\n",
        "print('2022' in judul)\n",
        "#berfungsi untuk mengecek apakah karakter '2022' ada pada string \n",
        "#ada sehingga outputnya adalah True\n",
        "print('angkatan' in judul)\n",
        "#tidak ada/salah sehingga outputnya adalah False"
      ],
      "metadata": {
        "id": "u5DKy5mHwoK9",
        "outputId": "450857ac-519f-478e-d743-e150d63bc84d",
        "colab": {
          "base_uri": "https://localhost:8080/"
        }
      },
      "execution_count": 36,
      "outputs": [
        {
          "output_type": "stream",
          "name": "stdout",
          "text": [
            "30\n",
            "True\n",
            "False\n"
          ]
        }
      ]
    },
    {
      "cell_type": "code",
      "source": [
        "#upper\n",
        "#fungsinya adalah mengubah semua karakter pada string menjadi huruf besar\n",
        "judul.upper()\n",
        "#menampilkan string pada judul dengan semua karakternya berupa huruf besar"
      ],
      "metadata": {
        "id": "SOkNKgUrBzms",
        "outputId": "66af1a8d-de2b-4eed-cd93-98b965bfcc2f",
        "colab": {
          "base_uri": "https://localhost:8080/",
          "height": 36
        }
      },
      "execution_count": 39,
      "outputs": [
        {
          "output_type": "execute_result",
          "data": {
            "text/plain": [
              "'PRODI MATEMATIKA ANGKATAN 2022'"
            ],
            "application/vnd.google.colaboratory.intrinsic+json": {
              "type": "string"
            }
          },
          "metadata": {},
          "execution_count": 39
        }
      ]
    },
    {
      "cell_type": "code",
      "source": [
        "#lower()\n",
        "#fungsinya adalah mengubah semua karakter pada string menjadi huruf kecil \n",
        "judul.lower()\n",
        "#menampilkan string pada judul dengan semua karakternya berupa huruf kecil"
      ],
      "metadata": {
        "id": "HWu6e9sfMF60",
        "outputId": "41c137e3-e409-4af9-957d-2ca2b4c10ca9",
        "colab": {
          "base_uri": "https://localhost:8080/",
          "height": 36
        }
      },
      "execution_count": 40,
      "outputs": [
        {
          "output_type": "execute_result",
          "data": {
            "text/plain": [
              "'prodi matematika angkatan 2022'"
            ],
            "application/vnd.google.colaboratory.intrinsic+json": {
              "type": "string"
            }
          },
          "metadata": {},
          "execution_count": 40
        }
      ]
    },
    {
      "cell_type": "code",
      "source": [
        "#swapcase()\n",
        "#fungsinya adalah mengubah karakter dengan huruf besar menjadi huruf kecil & sebaliknya\n",
        "judul.swapcase()\n",
        "#menampilkan string pada judul dengan karakter huruf besar diubah menjadi huruf kecil & sebaliknya"
      ],
      "metadata": {
        "id": "PwK9tki0NuD7",
        "outputId": "7b642206-5ff3-413d-f2ef-a49e87295b5d",
        "colab": {
          "base_uri": "https://localhost:8080/",
          "height": 36
        }
      },
      "execution_count": 48,
      "outputs": [
        {
          "output_type": "execute_result",
          "data": {
            "text/plain": [
              "'pRODI mATEMATIKA aNGKATAN 2022'"
            ],
            "application/vnd.google.colaboratory.intrinsic+json": {
              "type": "string"
            }
          },
          "metadata": {},
          "execution_count": 48
        }
      ]
    },
    {
      "cell_type": "code",
      "source": [
        "#find()\n",
        "#fungsinya adalah mencari karakter pada string & jika karakter ada maka outputnya adalah letak posisi karakter tersebut. jika karakter tidak ada/salah maka outputnya adalah -1\n",
        "judul.find('Matema')\n",
        "#menampilkan letak karakter 'Matema' (dimana yang dihitung adalah letak karakter pertama yaitu 'M')"
      ],
      "metadata": {
        "id": "tQjaurYgMSuT",
        "outputId": "d6236e90-8b61-497e-8c45-c0b7d371e9e5",
        "colab": {
          "base_uri": "https://localhost:8080/"
        }
      },
      "execution_count": 44,
      "outputs": [
        {
          "output_type": "execute_result",
          "data": {
            "text/plain": [
              "6"
            ]
          },
          "metadata": {},
          "execution_count": 44
        }
      ]
    },
    {
      "cell_type": "code",
      "source": [
        "#find()\n",
        "judul.find('prodi')\n",
        "#menampilkan output berupa -1 karena karakter 'prodi' tidak ada/salah, yang benar adalah 'Prodi'"
      ],
      "metadata": {
        "id": "U_8MIc2GMaFI",
        "outputId": "fc5e2ffa-5896-43bb-a890-e6060053f0fd",
        "colab": {
          "base_uri": "https://localhost:8080/"
        }
      },
      "execution_count": 45,
      "outputs": [
        {
          "output_type": "execute_result",
          "data": {
            "text/plain": [
              "-1"
            ]
          },
          "metadata": {},
          "execution_count": 45
        }
      ]
    },
    {
      "cell_type": "code",
      "source": [
        "#replace()\n",
        "#fungsinya adalah mengubah karakter lain dengan karakter yang diinginkan\n",
        "judul.replace('Prodi','Kuliah')\n",
        "#menampilakan output berupa string dari variabel judul dengan kata 'Prodi' diganti dengan 'Kuliah'"
      ],
      "metadata": {
        "id": "taaB_5AGM6UV",
        "outputId": "7d7d77af-a09e-490e-bc8c-162a90a88d04",
        "colab": {
          "base_uri": "https://localhost:8080/",
          "height": 36
        }
      },
      "execution_count": 46,
      "outputs": [
        {
          "output_type": "execute_result",
          "data": {
            "text/plain": [
              "'Kuliah Matematika Angkatan 2022'"
            ],
            "application/vnd.google.colaboratory.intrinsic+json": {
              "type": "string"
            }
          },
          "metadata": {},
          "execution_count": 46
        }
      ]
    },
    {
      "cell_type": "code",
      "source": [
        "#Latihan Operasi Matematika\n",
        "\n",
        "#penjumlahan(+)\n",
        "print(27 + 86)\n",
        "#menampilkan jumlah dari 27+86\n",
        "\n",
        "buku = 11\n",
        "pensil = 17\n",
        "#memasukkan nlai variabel dari buku & pensil\n",
        "jumlah = buku + pensil\n",
        "print('Jumlahnya adalah',jumlah)\n",
        "#mencetak string dan menampilkan hasil jumlah "
      ],
      "metadata": {
        "id": "uGjqR12jO72z",
        "outputId": "19fe27b7-31a4-477d-fc26-da7d4c07e8fa",
        "colab": {
          "base_uri": "https://localhost:8080/"
        }
      },
      "execution_count": 76,
      "outputs": [
        {
          "output_type": "stream",
          "name": "stdout",
          "text": [
            "113\n",
            "Jumlahnya adalah 28\n"
          ]
        }
      ]
    },
    {
      "cell_type": "code",
      "source": [
        "#pengurangan(-)\n",
        "print(47-53)\n",
        "#menampilkan hasil dari 47-53\n",
        "\n",
        "hutang = 63000\n",
        "bayar = 32000\n",
        "#memasukkan nlai variabel dari hutang & bayar\n",
        "sisa = hutang - bayar\n",
        "print('Sisa hutangnya adalah',sisa)\n",
        "#mencetak string & menampilkan hasil sisa "
      ],
      "metadata": {
        "id": "R1SM8K-NSIBy",
        "outputId": "5e87f46c-c318-477a-ebd3-bf400124a479",
        "colab": {
          "base_uri": "https://localhost:8080/"
        }
      },
      "execution_count": 56,
      "outputs": [
        {
          "output_type": "stream",
          "name": "stdout",
          "text": [
            "-6\n",
            "Sisa hutangnya adalah 31000\n"
          ]
        }
      ]
    },
    {
      "cell_type": "code",
      "source": [
        "#perkalian(*)\n",
        "print(30*12)\n",
        "#menampilkan hasil dari 30 kali 12\n",
        "\n",
        "panjang = 24\n",
        "lebar = 15\n",
        "#memasukkan nlai variabel dari panjang & lebar\n",
        "luas = panjang*lebar\n",
        "print('Luasnya adalah',luas)\n",
        "#mencetak string & menampilkan hasil luas"
      ],
      "metadata": {
        "id": "0_4EJwzsRQiN",
        "outputId": "cabb2148-93df-4574-de6a-0194611acf18",
        "colab": {
          "base_uri": "https://localhost:8080/"
        }
      },
      "execution_count": 58,
      "outputs": [
        {
          "output_type": "stream",
          "name": "stdout",
          "text": [
            "360\n",
            "Luasnya adalah 360\n"
          ]
        }
      ]
    },
    {
      "cell_type": "code",
      "source": [
        "#pembagian(/)\n",
        "print(31/2)\n",
        "#menampilkan hasil dari 31 bagi 2\n",
        "\n",
        "permen = 120 \n",
        "anak = 40\n",
        "#memasukkan nlai variabel dari permen & anak\n",
        "dibagi = permen/anak\n",
        "print(\"Setiap anak akan mendapatkan permen sebanyak \",dibagi)\n",
        "#mencetak string & menampilkan hasil dibagi"
      ],
      "metadata": {
        "id": "_ZyjSqIJUcU-",
        "outputId": "8dc6e7ec-570d-420c-b3f5-a019283d6e62",
        "colab": {
          "base_uri": "https://localhost:8080/"
        }
      },
      "execution_count": 61,
      "outputs": [
        {
          "output_type": "stream",
          "name": "stdout",
          "text": [
            "15.5\n",
            "Setiap anak akan mendapatkan permen sebanyak  3.0\n"
          ]
        }
      ]
    },
    {
      "cell_type": "code",
      "source": [
        "#pembulatan pembagian((//))\n",
        "print(30//4)\n",
        "#menampikan hasil pembagian yang dibulatkan \n",
        "#30 dibagi 4 adalah 7,5. karena dibulatkan shg menhasilkan nilai 7\n",
        "\n",
        "bil1 = 17\n",
        "bil2 = 8\n",
        "#memasukkan nlai variabel dari bil1 & bil2\n",
        "hasil = bil1//bil2\n",
        "print('Pembulatan pembagiannya adalah',hasil)\n",
        "#mencetak string & menampilkan hasilnya "
      ],
      "metadata": {
        "id": "kygs8AW3Vp8g",
        "outputId": "e9767348-e9fc-4d3a-d8a5-d94d29e3f64c",
        "colab": {
          "base_uri": "https://localhost:8080/"
        }
      },
      "execution_count": 64,
      "outputs": [
        {
          "output_type": "stream",
          "name": "stdout",
          "text": [
            "7\n",
            "Pembulatan pembagiannya adalah 2\n"
          ]
        }
      ]
    },
    {
      "cell_type": "code",
      "source": [
        "#modulo(%)\n",
        "print(30%4)\n",
        "#menampikan hasil dari sisa pembagian 30 bagi 4\n",
        "\n",
        "bil3 = 67\n",
        "bil4 = 7\n",
        "#memasukkan nlai variabel dari bil3 & bil4\n",
        "sisabagi = bil2%bil3\n",
        "print('Sisa bagi dari bilangan',bil3, 'dan',bil4, 'adalah',sisabagi)\n",
        "#mencetak string & menampilkan hasil dari sisa bagi"
      ],
      "metadata": {
        "id": "sn840Q83XX-h",
        "outputId": "84439cf2-f1fc-421f-9900-56dec9633db6",
        "colab": {
          "base_uri": "https://localhost:8080/"
        }
      },
      "execution_count": 73,
      "outputs": [
        {
          "output_type": "stream",
          "name": "stdout",
          "text": [
            "2\n",
            "Sisa bagi dari bilangan 67 dan 7 adalah 8\n"
          ]
        }
      ]
    },
    {
      "cell_type": "code",
      "source": [
        "#pemangkatan(**)\n",
        "print(7**3)\n",
        "#menampikan hasil dari 7 pangkat 3\n",
        "\n",
        "bil5 = 24\n",
        "bil6 = 2\n",
        "#memasukkan nlai variabel dari bil5 & bil6\n",
        "hasilpangkat = bil5**bil6\n",
        "print('Hasil pangkatnya adalah',hasilpangkat)\n",
        "#mencetak string & menampilkan hasil dari hasil pangkat "
      ],
      "metadata": {
        "id": "j4fDAAf2ZAxd",
        "outputId": "55951cd9-59ad-4645-86f2-7bee7cb05837",
        "colab": {
          "base_uri": "https://localhost:8080/"
        }
      },
      "execution_count": 75,
      "outputs": [
        {
          "output_type": "stream",
          "name": "stdout",
          "text": [
            "343\n",
            "Hasil pangkatnya adalah 576\n"
          ]
        }
      ]
    },
    {
      "cell_type": "code",
      "source": [
        "#augmented operator\n",
        "a = 11\n",
        "#memasukkan nilai variabel a\n",
        "\n",
        "a-= 10\n",
        "#memberikan nilai baru pada variabel a yaitu a=a-10 (dimana a sebelumnya adalah 11)\n",
        "#akan error apabila menggunakan spasi (a- =)\n",
        "print(a)\n",
        "#menampilkan nilai a yang baru\n",
        "\n",
        "a+= 9\n",
        "#memberikan nilai baru pada variabel a yaitu a=a+9 (dimana a sebelumnya adalah 1)\n",
        "print(a)\n",
        "#menampilkan nilai a yang baru\n",
        "\n",
        "a*= 10\n",
        "#memberikan nilai baru pada variabel a yaitu a=a*10 (dimana a sebelumnya adalah 10)\n",
        "print(a)\n",
        "#menampilkan nilai a yang baru\n",
        "\n",
        "a/= 5\n",
        "#memberikan nilai baru pada variabel a yaitu a=a/5 (dimana a sebelumnya adalah 100)\n",
        "print(a)\n",
        "#menampilkan nilai a yang baru"
      ],
      "metadata": {
        "id": "MzMbuMfhbAic",
        "outputId": "b3171da2-7767-481e-d226-742d13874090",
        "colab": {
          "base_uri": "https://localhost:8080/"
        }
      },
      "execution_count": 1,
      "outputs": [
        {
          "output_type": "stream",
          "name": "stdout",
          "text": [
            "1\n",
            "10\n",
            "100\n",
            "20.0\n"
          ]
        }
      ]
    },
    {
      "cell_type": "code",
      "source": [
        "#Latihan Operator Perbandingan\n",
        "\n",
        "#operator perbandingan dipakai untuk membandingkan 2 buah nilai,\n",
        "#apakah nilai tersebut sama dengan(==),tidak sama dengan(!=), lebih kecil(<), lebih besar(>), lebih kecil sama dengan(<=) dan lebih besar sama dengan (>=) \n",
        "#Hasil/output dari operator perbandingan ini adalah True atau False\n",
        "\n",
        "a = 3\n",
        "b = 9\n",
        "#memasukkan nlai variabel dari a & b\n",
        "\n",
        "print('a sama dengan b / a == b hasilnya',a==b)\n",
        "print('a tidak sama dengan b / a != b hasilnya',a!=b)\n",
        "print('a lebih kecil dari b / a < b hasilnya',a<b)\n",
        "print('a lebih besar dari b / a > b hasilnya',a>b)\n",
        "print('a lebih kecil sama dengan b / a <= b hasilnya',a<=b)\n",
        "print('a lebih besar sama dengan b / a >= b hasilnya',a>=b)\n",
        "\n",
        "#mencetak string & menampilkan hasil sesuai operator yang digunakan"
      ],
      "metadata": {
        "id": "2V8JNVkKdeqp",
        "outputId": "3974966d-91c6-4493-912c-5550ee06d1e8",
        "colab": {
          "base_uri": "https://localhost:8080/"
        }
      },
      "execution_count": 18,
      "outputs": [
        {
          "output_type": "stream",
          "name": "stdout",
          "text": [
            "a sama dengan b / a == b hasilnya False\n",
            "a tidak sama dengan b / a != b hasilnya True\n",
            "a lebih kecil dari b / a < b hasilnya True\n",
            "a lebih besar dari b / a > b hasilnya False\n",
            "a lebih kecil sama dengan b / a <= b hasilnya True\n",
            "a lebih besar sama dengan b / a >= b hasilnya False\n"
          ]
        }
      ]
    },
    {
      "cell_type": "code",
      "source": [
        "#Latihan Operator Logika \n",
        "\n",
        "#operator ini digunakan untuk membuat kesimpulan logika yaitu true atau false\n",
        "#operator and (true jika kedua operand bernilai true) \n",
        "#operator or (true jika salah satu operand bernilai true)\n",
        "#operator not (true jika operand bernilai false)\n",
        "\n",
        "uang_A = 12000\n",
        "uang_B = 7000\n",
        "uang_C = 22000\n",
        "#memasukkan nlai variabel dari uang_A, uang_B & uang_C\n",
        "\n",
        "print(uang_A == 12000 and uang_B != 10000)\n",
        "#menampilkan hasil logika dari uangA sama dengan 12000 & uangB tidak sama dengan 1000, dengan menggunakan operator and\n",
        "#perintah diatas akan diproses menjadi true and true, shg hasilnya true\n",
        "\n",
        "print(uang_B < 5000 or uang_C >= 20000)\n",
        "#menampilkan hasil logika dari uangB  kurang dari 10000 & uangB kurang dari sama dengan 20000, dengan menggunakan operator or\n",
        "#perintah diatas akan diproses menjadi false or true, shg hasilnya true\n",
        "\n",
        "print(uang_C > uang_B and uang_B > uang_A)\n",
        "#menampilkan hasil logika dari uangC lebih dari uangB & uangB lebih dari uangA, dengan menggunakan operator and\n",
        "#perintah diatas akan diproses menjadi true and false, shg hasilnya false\n",
        "\n",
        "print(not (uang_A > uang_B))\n",
        "#menampilakan hasil logika dari uangA lebih dari uangB, dengan menggunakan operator not\n",
        "#operasi uang_A > uang_B akan menghasilkan true, shg hasilnya false"
      ],
      "metadata": {
        "id": "eyzV_Wep1QQu",
        "outputId": "1477ae42-aaa7-4c34-ed3d-52170eee7eed",
        "colab": {
          "base_uri": "https://localhost:8080/"
        }
      },
      "execution_count": 28,
      "outputs": [
        {
          "output_type": "stream",
          "name": "stdout",
          "text": [
            "True\n",
            "True\n",
            "False\n",
            "False\n"
          ]
        }
      ]
    },
    {
      "cell_type": "code",
      "source": [
        "#Latihan Operator if\n",
        "\n",
        "#if adalah kondisi utama\n",
        "#elif adalah kondisi kedua atau ketiga hingga ke-x \n",
        "#else adalah kondisi terakhir \n",
        "#dimana semua kondisi sebelumnya tidak ada yang terpenuhi\n",
        "\n",
        "nilai = float(input('Masukkan nilai: '))\n",
        "if nilai >= 90:\n",
        "  print('Predikat A')\n",
        "if nilai >= 80:\n",
        "  print('Predikat B')\n",
        "if nilai >= 60:\n",
        "  print('Predikat C')\n",
        "if nilai >= 40:\n",
        "  print('Predikat D')\n",
        "else:\n",
        "  print('Predikat E')\n",
        "\n",
        "#karena pada setiap blok if membuat satu percabangan, shg terdapat 4 percabangan\n",
        "#oleh karena itu outputnya akan berbeda sesuai banyaknya percabangan yang terpenuhi "
      ],
      "metadata": {
        "id": "-4hZVItL4j5F",
        "outputId": "44692d09-b201-434f-dcd7-02641e52cb48",
        "colab": {
          "base_uri": "https://localhost:8080/"
        }
      },
      "execution_count": 32,
      "outputs": [
        {
          "output_type": "stream",
          "name": "stdout",
          "text": [
            "Masukkan nilai: 70\n",
            "Predikat C\n",
            "Predikat D\n"
          ]
        }
      ]
    },
    {
      "cell_type": "code",
      "source": [
        "nilai = float(input('Masukkan nilai: '))\n",
        "\n",
        "if nilai >= 90:\n",
        "  print('Predikat A')\n",
        "elif nilai >= 80:\n",
        "  print('Predikat B')\n",
        "elif nilai >= 60:\n",
        "  print('Predikat C')\n",
        "elif nilai >= 40:\n",
        "  print('Predikat D')\n",
        "else:\n",
        "  print('Predikat E')\n",
        "\n",
        "#pada kode ini memiliki satu pohon percabangan, dimana jika ada lebih dari satu kondisi yang terpenuhi, maka kondisi yang pertamalah yang akan dieksekusi \n",
        "#shg pada kode ini kondisi yang dieksekusi hanya satu, meskipun yang terpenuhi lebih dari satu"
      ],
      "metadata": {
        "id": "CBEzlq-ZCv2l",
        "outputId": "08ed40b1-0c3c-4454-c83a-70805ab6baa3",
        "colab": {
          "base_uri": "https://localhost:8080/"
        }
      },
      "execution_count": 33,
      "outputs": [
        {
          "output_type": "stream",
          "name": "stdout",
          "text": [
            "Masukkan nilai: 70\n",
            "Predikat C\n"
          ]
        }
      ]
    }
  ]
}