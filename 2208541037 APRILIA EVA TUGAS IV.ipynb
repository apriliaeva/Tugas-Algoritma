{
  "cells": [
    {
      "cell_type": "markdown",
      "metadata": {
        "id": "view-in-github",
        "colab_type": "text"
      },
      "source": [
        "<a href=\"https://colab.research.google.com/github/apriliaeva/Tugas-Algoritma/blob/main/2208541037%20APRILIA%20EVA%20TUGAS%20IV.ipynb\" target=\"_parent\"><img src=\"https://colab.research.google.com/assets/colab-badge.svg\" alt=\"Open In Colab\"/></a>"
      ]
    },
    {
      "cell_type": "markdown",
      "source": [
        "5.11 While Loop\n",
        " "
      ],
      "metadata": {
        "id": "3Af5xIpb7-nl"
      }
    },
    {
      "cell_type": "markdown",
      "source": [
        "While Loop akan selalu dieksekusi selama nilainya True dan akan berhenti\n",
        "saat nilainya menjadi False."
      ],
      "metadata": {
        "id": "uHG9R9n0_UUa"
      }
    },
    {
      "cell_type": "code",
      "source": [
        "#Latihan While Loop 1 [mengunakan tanda <]\n",
        "\n",
        "x = 3\n",
        "#inisialisasi variabel\n",
        "while x < 7:\n",
        "#while x<7 akan melakukan perulangan dari x=3 hingga x<7\n",
        "#ketika variabel x sdh mencapai >=7, maka kondisi while sdh tidak terpenuhi lagi (false), sehingga perulangan berhenti\n",
        "  print('Angka ' + str(x) + ' masih dibawah 7')\n",
        "  x += 1\n",
        "#x+=1 berarti nilai awal x=3 lalu x=3+1 dst (menjumlahkan nilai variabel x sebanyak 1) hingga x=x<7 "
      ],
      "metadata": {
        "colab": {
          "base_uri": "https://localhost:8080/"
        },
        "id": "3_Coaml_n97p",
        "outputId": "d7955a64-c60d-4ffc-a364-c54824704608"
      },
      "execution_count": 1,
      "outputs": [
        {
          "output_type": "stream",
          "name": "stdout",
          "text": [
            "Angka 3 masih dibawah 7\n",
            "Angka 4 masih dibawah 7\n",
            "Angka 5 masih dibawah 7\n",
            "Angka 6 masih dibawah 7\n"
          ]
        }
      ]
    },
    {
      "cell_type": "code",
      "source": [
        "#Latihan While Loop 2 [menggunakan input & Tanda <=]\n",
        "\n",
        "print('Bilangan asli hingga x')\n",
        "#mencetak pesan/teks\n",
        "i = 1\n",
        "#inisialisasi variabel\n",
        "x = int(input('Masukkan bil asli x = '))\n",
        "#input nilai x\n",
        "while i <= x:\n",
        "#while i<=x akan melakukan perulangan dari i=1 hingga i<=x\n",
        "#ketika i sdh mencapai i>x, maka kondisi while sdh tidak terpenuhi lagi (false), sehingga perulangan berhenti\n",
        "  print(i)\n",
        "#perintah print akan menampilkan isi dari variabel i\n",
        "  i = i + 1\n",
        "#i=i+1 sama artinya dengan i+=1 & bernilai hingga i<=x\n"
      ],
      "metadata": {
        "colab": {
          "base_uri": "https://localhost:8080/"
        },
        "id": "LGvb0q8er2pp",
        "outputId": "217c2eb7-2336-4e15-ea9b-972ce3189f65"
      },
      "execution_count": 2,
      "outputs": [
        {
          "output_type": "stream",
          "name": "stdout",
          "text": [
            "Bilangan asli hingga x\n",
            "Masukkan bil asli x = 8\n",
            "1\n",
            "2\n",
            "3\n",
            "4\n",
            "5\n",
            "6\n",
            "7\n",
            "8\n"
          ]
        }
      ]
    },
    {
      "cell_type": "code",
      "source": [
        "#Latihan While Loop 3 [menggunakan input & Tanda >]\n",
        "\n",
        "#sama halnya dengan latihan sebelumnya, pada latihan ini cuma diganti tanda perbandingann & variabelnya\n",
        "\n",
        "i = 17\n",
        "#inisialisasi variabel\n",
        "y = int(input('Masukkan bilangan asli y = '))\n",
        "#input nilai y\n",
        "while i > y:\n",
        "#while i>y akan melakukan perulangan dari i=17 hingga i<y (perulangan menurun)\n",
        "#ketika i mencapai i<=y, maka kondisi while sdh tidak terpenuhi lagi (false), sehingga perulangan berhenti\n",
        "#artinya selama nilai variabel i di atas y, perulangan berjalan\n",
        "  print(i)\n",
        "#perintah print akan menampilkan isi dari variabel i\n",
        "  i -=  1\n",
        "#karena kita ingin membuat perulangan menurun, maka dipakai perintah decrement i -= 1"
      ],
      "metadata": {
        "colab": {
          "base_uri": "https://localhost:8080/"
        },
        "id": "QFkLUXXOvhPV",
        "outputId": "841da67c-1076-4396-eb1a-924d42abc2ee"
      },
      "execution_count": 25,
      "outputs": [
        {
          "output_type": "stream",
          "name": "stdout",
          "text": [
            "Masukkan bilangan asli y = 14\n",
            "17\n",
            "16\n",
            "15\n"
          ]
        }
      ]
    },
    {
      "cell_type": "code",
      "source": [
        "#Latihan While Loop 4 [membuat deret kelipatan]\n",
        "\n",
        "print('Deret Kelipatan 5 dari 5 sampai 25')\n",
        "#mencetak pesan/teks\n",
        "i = 5\n",
        "#inisialisasi variabel\n",
        "while i <= 25:\n",
        "#while i<=25 melakukankan perulangan dari i=5 hingga i=25 \n",
        "#ketika i mencapai i>25, maka kondisi while sdh tidak terpenuhi lagi (false), sehingga perulangan berhenti\n",
        "  print(i)\n",
        "#perintah print akan menampilkan isi dari variabel i\n",
        "  i += 5\n",
        "#perintah i += 5 artinya dalam setiap perulangan, nilai variabel counter i akan langsung di tambah 5\n",
        "#Inilah yang membuat nilai variabel i lompat dengan kelipatan 5\n"
      ],
      "metadata": {
        "colab": {
          "base_uri": "https://localhost:8080/"
        },
        "id": "EcrTru3zw647",
        "outputId": "e25fdfa1-ba64-417a-b6e0-cfd0072e7595"
      },
      "execution_count": 4,
      "outputs": [
        {
          "output_type": "stream",
          "name": "stdout",
          "text": [
            "Deret Kelipatan 5 dari 5 sampai 25\n",
            "5\n",
            "10\n",
            "15\n",
            "20\n",
            "25\n"
          ]
        }
      ]
    },
    {
      "cell_type": "code",
      "source": [
        "#Latihan While Loop 5 [menggunakan pesan penutup (else)]\n",
        "\n",
        "print('Bilangan Prima 5 hingga 11')\n",
        "#mencetak pesan/teks\n",
        "i = 5\n",
        "#inisialisasi variabel\n",
        "while i < 12:\n",
        "#while i<12 melakukankan perulangan dari i=5 hingga i<12 \n",
        "  print(i)\n",
        "#perintah print akan menampilkan isi dari variabel i\n",
        "  i +=2\n",
        "#karena bil prima dari 5 hingga 11 adalah bil ganjil yg beurutan shg kita gunakan i+=2\n",
        "#perintah i += 2 artinya dalam setiap perulangan, nilai variabel counter i akan langsung di tambah 2\n",
        "else:\n",
        "  print('bilangan prima 5 hingga 11 ditampikan')\n",
        "#kita gunakan else agar pesannya berada di penutup (tidak di setiap cabang)"
      ],
      "metadata": {
        "colab": {
          "base_uri": "https://localhost:8080/"
        },
        "id": "cTDUb5ZS4HPA",
        "outputId": "db116751-4cbb-423e-d4eb-52521191a203"
      },
      "execution_count": 5,
      "outputs": [
        {
          "output_type": "stream",
          "name": "stdout",
          "text": [
            "Bilangan Prima 5 hingga 11\n",
            "5\n",
            "7\n",
            "9\n",
            "11\n",
            "bilangan prima 5 hingga 11 ditampikan\n"
          ]
        }
      ]
    },
    {
      "cell_type": "code",
      "source": [
        "#Latihan While Loop 6 [menggunakan and]\n",
        "\n",
        "a = 10\n",
        "b = 11\n",
        "#inisialisasi variabel\n",
        "while a >= 2 and b < 20:\n",
        "#while a>2 melakukankan perulangan dari a>=2 hingga a=10 \n",
        "#while b<20 melakukankan perulangan dari b=11 hingga b<20 \n",
        "  a -= 2\n",
        "  b += 2\n",
        "#perintah a -= 2 artinya dalam setiap perulangan, nilai variabel counter a akan langsung di dikurang 2\n",
        "#perintah b += 2 artinya dalam setiap perulangan, nilai variabel counter b akan langsung di tambah 2\n",
        "  print((a,b))\n",
        "#perintah print akan menampilkan isi dari variabel (a,b)"
      ],
      "metadata": {
        "colab": {
          "base_uri": "https://localhost:8080/"
        },
        "id": "6Dja6f16-fTh",
        "outputId": "1602767b-db54-47c8-a318-13348aae7011"
      },
      "execution_count": 6,
      "outputs": [
        {
          "output_type": "stream",
          "name": "stdout",
          "text": [
            "(8, 13)\n",
            "(6, 15)\n",
            "(4, 17)\n",
            "(2, 19)\n"
          ]
        }
      ]
    },
    {
      "cell_type": "markdown",
      "source": [
        "5.12 List di Pyhton"
      ],
      "metadata": {
        "id": "gUnvflOy-4qX"
      }
    },
    {
      "cell_type": "markdown",
      "source": [
        "List dapat digunakan saat kita akan merepresentasikan objek di dalam Python\n",
        "baik berupa string maupun berupa angka."
      ],
      "metadata": {
        "id": "z-ZuELHt_E5l"
      }
    },
    {
      "cell_type": "code",
      "source": [
        "#Lahihan List di Python 1 [menampilkan karakter pada indeks tertentu]\n",
        "\n",
        "Prodi = ['Matematika', 'Fisika', 'Kimia', 'Biologi']\n",
        "#inisialisasi variabel Prodi\n",
        "print(Prodi)\n",
        "#perintah print akan menampilkan isi dari variabel Prodi\n",
        "print(Prodi[0])       #menampilkan karakter ke-0/pertama pada string (karena urutannya dimulai dari 0)\n",
        "print(Prodi[2])       #menampilkan karakter ke-2 pada string\n",
        "print(Prodi[-1])      #menampilkan karakter terakhir pada string (dimana -1 didefinisikan sbg urutan terakhir)\n",
        "print(Prodi[-4])      #menampilkan karakter ke-(-4)/pertama pada string (karena urutan -4 adalah urutan ke 4 dari kanan)\n",
        "print(Prodi[-7])      #index error karena tidak ada index ke -7 pada string"
      ],
      "metadata": {
        "colab": {
          "base_uri": "https://localhost:8080/",
          "height": 287
        },
        "id": "QzJKu0dz-O77",
        "outputId": "fc9fabad-2fae-4362-d054-703cd05c8300"
      },
      "execution_count": 7,
      "outputs": [
        {
          "output_type": "stream",
          "name": "stdout",
          "text": [
            "['Matematika', 'Fisika', 'Kimia', 'Biologi']\n",
            "Matematika\n",
            "Kimia\n",
            "Biologi\n",
            "Matematika\n"
          ]
        },
        {
          "output_type": "error",
          "ename": "IndexError",
          "evalue": "ignored",
          "traceback": [
            "\u001b[0;31m---------------------------------------------------------------------------\u001b[0m",
            "\u001b[0;31mIndexError\u001b[0m                                Traceback (most recent call last)",
            "\u001b[0;32m<ipython-input-7-2ec571418d8b>\u001b[0m in \u001b[0;36m<cell line: 11>\u001b[0;34m()\u001b[0m\n\u001b[1;32m      9\u001b[0m \u001b[0mprint\u001b[0m\u001b[0;34m(\u001b[0m\u001b[0mProdi\u001b[0m\u001b[0;34m[\u001b[0m\u001b[0;34m-\u001b[0m\u001b[0;36m1\u001b[0m\u001b[0;34m]\u001b[0m\u001b[0;34m)\u001b[0m      \u001b[0;31m#menampilkan karakter terakhir pada string (dimana -1 didefinisikan sbg urutan terakhir)\u001b[0m\u001b[0;34m\u001b[0m\u001b[0;34m\u001b[0m\u001b[0m\n\u001b[1;32m     10\u001b[0m \u001b[0mprint\u001b[0m\u001b[0;34m(\u001b[0m\u001b[0mProdi\u001b[0m\u001b[0;34m[\u001b[0m\u001b[0;34m-\u001b[0m\u001b[0;36m4\u001b[0m\u001b[0;34m]\u001b[0m\u001b[0;34m)\u001b[0m      \u001b[0;31m#menampilkan karakter ke-(-4)/pertama pada string (karena urutan -4 adalah urutan ke 4 dari kanan)\u001b[0m\u001b[0;34m\u001b[0m\u001b[0;34m\u001b[0m\u001b[0m\n\u001b[0;32m---> 11\u001b[0;31m \u001b[0mprint\u001b[0m\u001b[0;34m(\u001b[0m\u001b[0mProdi\u001b[0m\u001b[0;34m[\u001b[0m\u001b[0;34m-\u001b[0m\u001b[0;36m7\u001b[0m\u001b[0;34m]\u001b[0m\u001b[0;34m)\u001b[0m      \u001b[0;31m#index error karena tidak ada index ke -7 pada string\u001b[0m\u001b[0;34m\u001b[0m\u001b[0;34m\u001b[0m\u001b[0m\n\u001b[0m",
            "\u001b[0;31mIndexError\u001b[0m: list index out of range"
          ]
        }
      ]
    },
    {
      "cell_type": "code",
      "source": [
        "#Lahihan List di Python 2 [range slice string]\n",
        "\n",
        "#range slice menampilkan range karakter dari a mendekati b = [a:b] , dengan\n",
        "                   #    a = index karakter yang mulai dicetak\n",
        "                   #    b = batas akhir karakter yang dicetak dengan b tidak dicetak\n",
        "F = ['FMIPA', 'FEB', 'FK', 'FT', 'FIB', 'FPAR','FISIP', 'FKH']\n",
        "#inisialisasi variabel F\n",
        "print(F[0:-1])     #menampilkan karakter ke 0 sampai batas akhir -1 (dimana urutan terakhir tidak termasuk)\n",
        "print(F[0:5])      #menampilkan karakter ke 0 sampai batas akhir 5\n",
        "print(F[-1:-3])    #outputnya kosong karena urutan tidak dapat dari kanan ke kiri (dari yang terakhir ke mula)\n",
        "print(F[-3:-1])    #menampilkan karakter ke -3 (urutan ketiga dari kanan) sampai batas akhir -1 (urutan terakhir)\n",
        "print(F[:])        #menampilkan semua dalam string\n",
        "print(F[:3])       #menampilkan karakter ke 0 sampai batas akhir 3\n",
        "print(F[-5:])      #menampilkan karakter ke -5 sampai karakter terakhir (yang paling kanan)"
      ],
      "metadata": {
        "colab": {
          "base_uri": "https://localhost:8080/"
        },
        "id": "pti5KsKGC1V_",
        "outputId": "cfb6e6b0-62fd-46a5-fdc7-27005d31302c"
      },
      "execution_count": 8,
      "outputs": [
        {
          "output_type": "stream",
          "name": "stdout",
          "text": [
            "['FMIPA', 'FEB', 'FK', 'FT', 'FIB', 'FPAR', 'FISIP']\n",
            "['FMIPA', 'FEB', 'FK', 'FT', 'FIB']\n",
            "[]\n",
            "['FPAR', 'FISIP']\n",
            "['FMIPA', 'FEB', 'FK', 'FT', 'FIB', 'FPAR', 'FISIP', 'FKH']\n",
            "['FMIPA', 'FEB', 'FK']\n",
            "['FT', 'FIB', 'FPAR', 'FISIP', 'FKH']\n"
          ]
        }
      ]
    },
    {
      "cell_type": "markdown",
      "source": [
        "5.13 Metoda List"
      ],
      "metadata": {
        "id": "fEwuwiaS_mTO"
      }
    },
    {
      "cell_type": "code",
      "source": [
        "#Latihan Metoda List 1 [menggunakan append(string)]\n",
        "#append(string) berfungsi untuk menambahkan karakter pada string\n",
        "\n",
        "buah = ['jeruk', 'apel','anggur', 'nanas' ]\n",
        "#inisialisasi variabel buah\n",
        "buah.append('manggis')\n",
        "#baris diatas akan menambahkan karakter manggis pada string di variabel buah \n",
        "print(buah)\n",
        "#perintah print akan menampilkan isi dari variabel buah"
      ],
      "metadata": {
        "colab": {
          "base_uri": "https://localhost:8080/"
        },
        "id": "gHBGZnQEJdCp",
        "outputId": "33d0209e-3037-492b-de0c-4e23aa8d645a"
      },
      "execution_count": 9,
      "outputs": [
        {
          "output_type": "stream",
          "name": "stdout",
          "text": [
            "['jeruk', 'apel', 'anggur', 'nanas', 'manggis']\n"
          ]
        }
      ]
    },
    {
      "cell_type": "code",
      "source": [
        "#Latihan Metoda List 2 [menggunakan insert]\n",
        "#insert berfungsi menambahkan karakter beserta urutannya pada string, formatnya (urutan,'karakter')\n",
        "\n",
        "#dengan menggunakan string pada variabel buah (pada latihan 1)\n",
        "\n",
        "buah.insert(3,'mangga')\n",
        "#baris diatas akan menambahkan karakter mangga pada urutan ke 2 pada string di variabel buah \n",
        "print(buah)\n",
        "#perintah print akan menampilkan isi dari variabel buah"
      ],
      "metadata": {
        "colab": {
          "base_uri": "https://localhost:8080/"
        },
        "id": "zAzHDrKiPK8k",
        "outputId": "ed67aca8-3fb3-4a75-b9eb-103a3efcb89d"
      },
      "execution_count": 10,
      "outputs": [
        {
          "output_type": "stream",
          "name": "stdout",
          "text": [
            "['jeruk', 'apel', 'anggur', 'mangga', 'nanas', 'manggis']\n"
          ]
        }
      ]
    },
    {
      "cell_type": "code",
      "source": [
        "#Latihan Metoda List 3 [menggunakan remove]\n",
        "#remove berfungsi untuk menghapus karakter pada string\n",
        "\n",
        "#dengan menggunakan string pada variabel buah (pada latihan 2)\n",
        "\n",
        "buah.remove('nanas')\n",
        "#baris diatas akan mennghapus karakter nanas pada pada string di variabel buah\n",
        "print(buah)\n",
        "#perintah print akan menampilkan isi dari variabel buah"
      ],
      "metadata": {
        "colab": {
          "base_uri": "https://localhost:8080/"
        },
        "id": "5GMJfyR8QuiU",
        "outputId": "19cacc9a-42a3-4746-a175-8b723cb9ee99"
      },
      "execution_count": 11,
      "outputs": [
        {
          "output_type": "stream",
          "name": "stdout",
          "text": [
            "['jeruk', 'apel', 'anggur', 'mangga', 'manggis']\n"
          ]
        }
      ]
    },
    {
      "cell_type": "code",
      "source": [
        "#Latihan Metoda List 4 [menggunakan in string)\n",
        "#in string berfungsi untuk mengecek keberadaan karakter pada string, dengan menyatakan true or false\n",
        "\n",
        "#dengan menggunakan string pada variabel buah (pada latihan 3)\n",
        "\n",
        "print('nanas' in buah)     #output berupa false karena nanas tidak terdapat dalam string \n",
        "print('Anggur' in buah)    #output berupa false karena huruf pada karakter anggur tidak sesuai yaitu menggunakan huruf besar \n",
        "print('anggur' in buah)    #output berupa true (karakter anggur terdapat dalam string)"
      ],
      "metadata": {
        "colab": {
          "base_uri": "https://localhost:8080/"
        },
        "id": "bkUP1HYLRk2q",
        "outputId": "3e56de67-c5f0-4050-eedd-a93a93e60780"
      },
      "execution_count": 12,
      "outputs": [
        {
          "output_type": "stream",
          "name": "stdout",
          "text": [
            "False\n",
            "False\n",
            "True\n"
          ]
        }
      ]
    },
    {
      "cell_type": "code",
      "source": [
        "#Latihan Metoda List 4 [menggunakan len(string)]\n",
        "#len(string) berfungsi menghitung panjang atau jumlah karakter pada string\n",
        "\n",
        "#dengan menggunakan string pada variabel buah (pada latihan 3)\n",
        "\n",
        "print(len(buah))\n",
        "#baris diatas akan menampilan jumlah karakter pada string dalam variabel buah "
      ],
      "metadata": {
        "colab": {
          "base_uri": "https://localhost:8080/"
        },
        "id": "8weTZ0PQTe38",
        "outputId": "8ca4d40f-f3a5-4512-8793-fc69b4933434"
      },
      "execution_count": 13,
      "outputs": [
        {
          "output_type": "stream",
          "name": "stdout",
          "text": [
            "5\n"
          ]
        }
      ]
    },
    {
      "cell_type": "code",
      "source": [
        "#Latihan Metoda List 5 [menambahkan karakter dari satu list ke list lainnya]\n",
        "\n",
        "buah_1 = ['mangga', 'jeruk','anggur']\n",
        "buah_2 = ['manggis', 'nanas', 'rambutan']\n",
        "#inisialisasi variabel-variabel\n",
        "buah_1.extend(buah_2)\n",
        "#baris diatas akan menambahkan karakter pada buah_2 ke list buah_1\n",
        "print(buah_1)\n",
        "#perintah print akan menampilkan isi/output dari variabel buah_1"
      ],
      "metadata": {
        "colab": {
          "base_uri": "https://localhost:8080/"
        },
        "id": "kOoS5TJNVb3E",
        "outputId": "8be9f089-afd4-4309-e328-cb88b6e6befa"
      },
      "execution_count": 14,
      "outputs": [
        {
          "output_type": "stream",
          "name": "stdout",
          "text": [
            "['mangga', 'jeruk', 'anggur', 'manggis', 'nanas', 'rambutan']\n"
          ]
        }
      ]
    },
    {
      "cell_type": "markdown",
      "source": [
        "5.14 For loop"
      ],
      "metadata": {
        "id": "nP5BOmC7_w9T"
      }
    },
    {
      "cell_type": "markdown",
      "source": [
        "For loop dapat digunakan untuk memanggil semua isi list."
      ],
      "metadata": {
        "id": "uuYDXgxV_yCR"
      }
    },
    {
      "cell_type": "code",
      "source": [
        "#Latihan For Loop 1\n",
        "\n",
        "sekolah = ['SD', 'SMP', 'SMA', 'PT']\n",
        "#inisialisasi variabel \n",
        "for jenjang in sekolah:\n",
        "#kode baris diatas akan menampilkan semua isi list pada variabel sekolah\n",
        "  print(jenjang) \n",
        "#perintah print akan menampilkan isi/outputnya"
      ],
      "metadata": {
        "colab": {
          "base_uri": "https://localhost:8080/"
        },
        "id": "Kxx8VC7jXhpp",
        "outputId": "7edf5e20-c8f7-490f-895a-4dd8324eff84"
      },
      "execution_count": 15,
      "outputs": [
        {
          "output_type": "stream",
          "name": "stdout",
          "text": [
            "SD\n",
            "SMP\n",
            "SMA\n",
            "PT\n"
          ]
        }
      ]
    },
    {
      "cell_type": "code",
      "source": [
        "#Latihan For Loop 2 [menggunakan enumerate(string)]\n",
        "#enumerate(string) berfungsi untuk menambahkan penghitung ke setiap karakter pada list\n",
        "\n",
        "alat_tulis = ['pensil', 'buku', 'pena', 'stailo', 'sticky note']\n",
        "#inisialisasi variabel\n",
        "for i, alat in enumerate(alat_tulis):\n",
        "#kode baris diatas akan menampilkan semua isi list sekaligus menambahkan penghitung atau urutan di setiap katrakter\n",
        "#kode penghitung atau urutannya adalah i & urutannya dimulai dari 0\n",
        "  print(i, alat)\n",
        "#perintah print akan menampilkan outputnya yang berupa penghitung/urutan beserta karakter pada list "
      ],
      "metadata": {
        "colab": {
          "base_uri": "https://localhost:8080/"
        },
        "id": "6x50ioIbZJU4",
        "outputId": "fd681505-9977-4a4f-8d86-879eaedb6351"
      },
      "execution_count": 16,
      "outputs": [
        {
          "output_type": "stream",
          "name": "stdout",
          "text": [
            "0 pensil\n",
            "1 buku\n",
            "2 pena\n",
            "3 stailo\n",
            "4 sticky note\n"
          ]
        }
      ]
    },
    {
      "cell_type": "code",
      "source": [
        "#Latihan For Loop 3 [menampilan karakter string]\n",
        "\n",
        "#string yang digunakan langsung dimasukkan pada kode \n",
        "for karakter in 'APRILIA':\n",
        "#kode baris diatas akan menampilkan huruf/karakter dari string ('APRILIA') \n",
        "  print(karakter)\n",
        "#perintah print akan menampilkan outputnya yang berupa huruf/karakter dari string"
      ],
      "metadata": {
        "colab": {
          "base_uri": "https://localhost:8080/"
        },
        "id": "__Ix_v2rcoJk",
        "outputId": "69e5773a-ee71-4551-c7ae-950470978e71"
      },
      "execution_count": 17,
      "outputs": [
        {
          "output_type": "stream",
          "name": "stdout",
          "text": [
            "A\n",
            "P\n",
            "R\n",
            "I\n",
            "L\n",
            "I\n",
            "A\n"
          ]
        }
      ]
    },
    {
      "cell_type": "code",
      "source": [
        "#Latihan For Loop 4 [menambahkan karakter akhir pada string]\n",
        "\n",
        "#string yang digunakan langsung dimasukkan pada kode\n",
        "for i in [5, 4, 3, 2, 1]:\n",
        "#kode baris diatas akan menampilkan huruf/karakter dari string \n",
        "  print(i, end='.')\n",
        "#perintah print akan menampilkan outputnya yang berupa karakter pada string & ditambahkan dengan diakhir masing-masing karakter berisi (.)"
      ],
      "metadata": {
        "colab": {
          "base_uri": "https://localhost:8080/"
        },
        "id": "n7l5psl7fQlD",
        "outputId": "29d878e1-b360-47a3-e621-172e5da320f1"
      },
      "execution_count": 18,
      "outputs": [
        {
          "output_type": "stream",
          "name": "stdout",
          "text": [
            "5.4.3.2.1."
          ]
        }
      ]
    },
    {
      "cell_type": "markdown",
      "source": [
        "5.15 Fungsi Range"
      ],
      "metadata": {
        "id": "q19uIRbl_4tj"
      }
    },
    {
      "cell_type": "markdown",
      "source": [
        "Fungsi range berguna untuk membangkitkan bilangan berurutan atau berpola\n",
        "yang kita inginkan."
      ],
      "metadata": {
        "id": "7gTITUre_9NJ"
      }
    },
    {
      "cell_type": "code",
      "source": [
        "#Latihan Fungsi Range 1 [list dari 0 sampai 10]\n",
        "\n",
        "angka = range(10)\n",
        "#inisialisasi variabel angka dengan range(10) yaitu 0 sampai 9\n",
        "print(angka)\n",
        "#perintah print akan menampilkan string pada variabel angka \n",
        "for isi in (angka):\n",
        "#kode baris diatas akan memanggil isi list pada variabel angka\n",
        "  print(isi)\n",
        "#perintah print akan menampilkan elemen yang berada pada variabel angka atau isi dari variabel angka"
      ],
      "metadata": {
        "colab": {
          "base_uri": "https://localhost:8080/"
        },
        "id": "Gvgv2qZqgNMj",
        "outputId": "ebb70f78-85c1-4e18-ec1b-6f5467d79e3b"
      },
      "execution_count": 19,
      "outputs": [
        {
          "output_type": "stream",
          "name": "stdout",
          "text": [
            "range(0, 10)\n",
            "0\n",
            "1\n",
            "2\n",
            "3\n",
            "4\n",
            "5\n",
            "6\n",
            "7\n",
            "8\n",
            "9\n"
          ]
        }
      ]
    },
    {
      "cell_type": "code",
      "source": [
        "#Latihan Fungsi Range 2 [dengan 2 argumen]\n",
        "\n",
        "for isi in range (6,12):\n",
        "#baris diatas akan memanggil isi list dari range (6,12) yaitu 6 sampai 11\n",
        "  print(isi)\n",
        "#perintah print akan menampilkan elemen yang berada pada isi dari range (6,12)"
      ],
      "metadata": {
        "colab": {
          "base_uri": "https://localhost:8080/"
        },
        "id": "xGz5_ZOkip1X",
        "outputId": "208afca9-f154-416a-f31b-f5dfacab2222"
      },
      "execution_count": 20,
      "outputs": [
        {
          "output_type": "stream",
          "name": "stdout",
          "text": [
            "6\n",
            "7\n",
            "8\n",
            "9\n",
            "10\n",
            "11\n"
          ]
        }
      ]
    },
    {
      "cell_type": "code",
      "source": [
        "#Latihan Fungsi Range 3 [dengan 3 argumen]\n",
        "\n",
        "for isi in range (6,40,6):\n",
        "#baris diatas akan memanggil isi list dari range (6,40,6) yaitu 6 sampai 40 dengan penambahan lompat 6\n",
        "  print(isi)\n",
        "#perintah print akan menampilkan elemen yang berada pada isi dari range (6,40,6)"
      ],
      "metadata": {
        "colab": {
          "base_uri": "https://localhost:8080/"
        },
        "id": "QxPuc7h2lVj0",
        "outputId": "19ea99b7-443c-460c-cadf-51aa9c961994"
      },
      "execution_count": 21,
      "outputs": [
        {
          "output_type": "stream",
          "name": "stdout",
          "text": [
            "6\n",
            "12\n",
            "18\n",
            "24\n",
            "30\n",
            "36\n"
          ]
        }
      ]
    },
    {
      "cell_type": "code",
      "source": [
        "#Latihan Fungsi Range 4\n",
        "\n",
        "member_list = ['Lisa', 'Rose', 'Jennie', 'Jisoo']\n",
        "#inisialisasi variabel\n",
        "print('MEMBER BLACKPINK :')\n",
        "#perintah print akan menampilkan pesan/teksnya\n",
        "jum_member = len(member_list)\n",
        "#inisialisasi variabel jum_member  dengan jumlah elemen dalam variabel member_list\n",
        "for i in range(jum_member):\n",
        "#baris diatas akan memanggil range dari jum_member\n",
        "  print(member_list[i], 'adalah member blackpink')\n",
        "#baris diatas akan menampilkan elemen yang ada didalam variabel member_list & mencetak pesan/teks "
      ],
      "metadata": {
        "colab": {
          "base_uri": "https://localhost:8080/"
        },
        "id": "dp8Drx0WmkQn",
        "outputId": "5769cd83-aadb-42be-a17a-123925e80a8c"
      },
      "execution_count": 22,
      "outputs": [
        {
          "output_type": "stream",
          "name": "stdout",
          "text": [
            "MEMBER BLACKPINK :\n",
            "Lisa adalah member blackpink\n",
            "Rose adalah member blackpink\n",
            "Jennie adalah member blackpink\n",
            "Jisoo adalah member blackpink\n"
          ]
        }
      ]
    },
    {
      "cell_type": "code",
      "source": [
        "#Latihan Fungsi Range 5 [menggunakan break]\n",
        "#break berfungsi untuk interupsi (memberhentikan paksa) sebuah perulangan\n",
        "\n",
        "for i in range(2,26):\n",
        "#baris diatas akan memanggil isi list dari range(2,26) yaitu dari 2 sampai 26\n",
        "  if(i == 13):\n",
        "#baris diatas menyatakan jika i sama dengan  13\n",
        "    break\n",
        "#maka sistem akan melakukan pemberhentian perulangan ketika i sama dengan 13\n",
        "  print(i)\n",
        "##baris diatas akan menampilkan elemen yang ada didalam i"
      ],
      "metadata": {
        "colab": {
          "base_uri": "https://localhost:8080/"
        },
        "id": "JvlcCOlbwNlb",
        "outputId": "645191e9-4256-4168-b802-6c90cb6ef94a"
      },
      "execution_count": 23,
      "outputs": [
        {
          "output_type": "stream",
          "name": "stdout",
          "text": [
            "2\n",
            "3\n",
            "4\n",
            "5\n",
            "6\n",
            "7\n",
            "8\n",
            "9\n",
            "10\n",
            "11\n",
            "12\n"
          ]
        }
      ]
    },
    {
      "cell_type": "code",
      "source": [
        "#Latihan Fungsi Range 6 [menggunakan continue]\n",
        "#continue berfungsi untuk menskip & melanjutka ke iterasi selanjutnya\n",
        "\n",
        "for i in range(2,12):\n",
        "#baris diatas akan memanggil isi list dari range(2,12) yaitu dari 2 sampai 11\n",
        "  if(i == 5):\n",
        "#baris diatas menyatakan jika i sama dengan  5\n",
        "    continue\n",
        "#maka sistem akan melakukan skip ketika i sama dengan 5 & dilanjutnyakn dengan iterasi berikutnya\n",
        "  print(i)\n",
        "#baris diatas akan menampilkan elemen yang ada didalam i"
      ],
      "metadata": {
        "colab": {
          "base_uri": "https://localhost:8080/"
        },
        "id": "48V_qv2lz68u",
        "outputId": "f3c6d3cf-d81b-4d4e-d925-e8d977b877d3"
      },
      "execution_count": 24,
      "outputs": [
        {
          "output_type": "stream",
          "name": "stdout",
          "text": [
            "2\n",
            "3\n",
            "4\n",
            "6\n",
            "7\n",
            "8\n",
            "9\n",
            "10\n",
            "11\n"
          ]
        }
      ]
    }
  ],
  "metadata": {
    "accelerator": "GPU",
    "colab": {
      "provenance": [],
      "authorship_tag": "ABX9TyPfjT4C/NmH4ooua71oXsnN",
      "include_colab_link": true
    },
    "gpuClass": "standard",
    "kernelspec": {
      "display_name": "Python 3",
      "name": "python3"
    },
    "language_info": {
      "name": "python"
    }
  },
  "nbformat": 4,
  "nbformat_minor": 0
}